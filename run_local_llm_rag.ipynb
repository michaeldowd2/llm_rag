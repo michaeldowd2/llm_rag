{
 "cells": [
  {
   "cell_type": "code",
   "execution_count": 2,
   "id": "dcfc24d3-bf71-4576-9716-32386f47888c",
   "metadata": {},
   "outputs": [
    {
     "name": "stderr",
     "output_type": "stream",
     "text": [
      "C:\\Users\\shave\\.conda\\envs\\llamacpp2\\lib\\site-packages\\tqdm\\auto.py:21: TqdmWarning: IProgress not found. Please update jupyter and ipywidgets. See https://ipywidgets.readthedocs.io/en/stable/user_install.html\n",
      "  from .autonotebook import tqdm as notebook_tqdm\n"
     ]
    }
   ],
   "source": [
    "import json\n",
    "import os\n",
    "import sys\n",
    "import numpy as np\n",
    "import time\n",
    "import urllib.request\n",
    "import traceback\n",
    "from transformers import LlamaForCausalLM, LlamaTokenizer\n",
    "from langchain.llms import LlamaCpp\n",
    "from langchain.chains import LLMChain\n",
    "from langchain.embeddings import HuggingFaceEmbeddings\n",
    "from langchain.text_splitter import CharacterTextSplitter, RecursiveCharacterTextSplitter\n",
    "from langchain.document_loaders import BSHTMLLoader\n",
    "from langchain.document_loaders import DirectoryLoader\n",
    "from langchain.chains.question_answering import load_qa_chain\n",
    "from langchain.vectorstores import FAISS\n",
    "from langchain.indexes import VectorstoreIndexCreator\n",
    "from langchain.indexes.vectorstore import VectorStoreIndexWrapper\n",
    "from langchain.prompts import PromptTemplate\n",
    "from langchain.chains import RetrievalQA\n",
    "from bs4 import BeautifulSoup\n",
    "import requests\n",
    "import lxml\n",
    "import logging\n",
    "import inspect\n",
    "import src.analyse as al\n",
    "import src.queries as queries"
   ]
  },
  {
   "cell_type": "code",
   "execution_count": 3,
   "id": "6077f2b2-78b1-4c81-ba3e-b3775a9b8f1f",
   "metadata": {},
   "outputs": [],
   "source": [
    "no_factors= 5\n",
    "no_links = 5\n",
    "analysis_id = 'Nymex_Crude_Oil'\n",
    "subject = 'Nymex Crude Oil'\n",
    "config_file = 'test'\n",
    "model_props = {\n",
    "        \"name\": \"vicuna-33b.Q3_K_M.gguf\", #llama-2-13b-chat.Q8_0.gguf\",\n",
    "        \"n_gpu_layers\": 50, #for vicuna, #43 for llama2\n",
    "        \"n_batch\":1024,\n",
    "        \"n_ctx\":4096\n",
    "    }\n",
    "\n",
    "direction = 'Increase'\n",
    "factor_store = \"FactorStore_0\"\n",
    "factors_analysis = \"FactorsAnalysis_0\"\n",
    "effect_store = \"EffectStore_0\"\n",
    "effect_analyses = [\n",
    "            \"EffectAnalysis_0\",\n",
    "            \"EffectAnalysis_1\",\n",
    "            \"EffectAnalysis_2\"\n",
    "       ]\n",
    "func_dict = dict(inspect.getmembers(queries, inspect.isfunction))"
   ]
  },
  {
   "cell_type": "code",
   "execution_count": 37,
   "id": "c4ead187-f8be-42a7-9df4-a4562e241c84",
   "metadata": {},
   "outputs": [
    {
     "data": {
      "text/plain": [
       "{'EffectAnalysis_0': <function src.queries.EffectAnalysis_0()>,\n",
       " 'EffectAnalysis_1': <function src.queries.EffectAnalysis_1()>,\n",
       " 'EffectAnalysis_2': <function src.queries.EffectAnalysis_2()>,\n",
       " 'EffectStore_0': <function src.queries.EffectStore_0()>,\n",
       " 'FactorStore_0': <function src.queries.FactorStore_0()>,\n",
       " 'FactorsAnalysis_0': <function src.queries.FactorsAnalysis_0()>,\n",
       " 'PriceAnalysis_0': <function src.queries.PriceAnalysis_0()>,\n",
       " 'PriceAnalysis_1': <function src.queries.PriceAnalysis_1()>,\n",
       " 'PriceAnalysis_2': <function src.queries.PriceAnalysis_2()>,\n",
       " 'PriceStore_0': <function src.queries.PriceStore_0()>,\n",
       " 'SentimentAnalysis_0': <function src.queries.SentimentAnalysis_0()>,\n",
       " 'SentimentAnalysis_1': <function src.queries.SentimentAnalysis_1()>,\n",
       " 'SentimentAnalysis_2': <function src.queries.SentimentAnalysis_2()>,\n",
       " 'SentimentStore_0': <function src.queries.SentimentStore_0()>}"
      ]
     },
     "execution_count": 37,
     "metadata": {},
     "output_type": "execute_result"
    }
   ],
   "source": [
    "func_dict"
   ]
  },
  {
   "cell_type": "code",
   "execution_count": 4,
   "id": "c4c1e428-fa9c-4c9c-a80c-494c2a2ea724",
   "metadata": {},
   "outputs": [],
   "source": [
    "def ParseJSONResult(answer):\n",
    "    try:\n",
    "        res = json.loads(answer['result'])\n",
    "        return res\n",
    "    except Exception as e:\n",
    "        logging.exception('failed to parse json: ')\n",
    "        logging.exception(answer['result'])\n",
    "        logging.exception(e)\n",
    "        return None\n",
    "        raise Exception(e)\n",
    "\n",
    "def Parameterise(inp, subject = '', factor = '', no_factors = '', direction = ''):\n",
    "    inp = inp.replace('{subject}', subject)\n",
    "    inp = inp.replace('{factor}', factor)\n",
    "    inp = inp.replace('{no_factors}', str(no_factors))\n",
    "    inp = inp.replace('{direction}', direction)\n",
    "    return inp\n",
    "    \n",
    "def CreateVectorDB(config_file, analysis_id, prefix):\n",
    "    try:\n",
    "        vector_db_path = os.path.join(os.getcwd(), 'output', config_file, 'html', analysis_id)\n",
    "        vector_db_path = os.path.join(vector_db_path, prefix) + '\\\\'\n",
    "        print('loading vector db at directory: ' + vector_db_path)\n",
    "        loader = DirectoryLoader(vector_db_path, loader_cls=BSHTMLLoader, loader_kwargs={'open_encoding':'utf8'})\n",
    "        documents = loader.load()\n",
    "        print('splitting documents')\n",
    "        text_splitter = RecursiveCharacterTextSplitter(chunk_size = 500, chunk_overlap = 250)\n",
    "        docs = text_splitter.split_documents(documents)\n",
    "        print('generating embeddings')\n",
    "        embeddings = HuggingFaceEmbeddings(model_name=\"all-mpnet-base-v2\")\n",
    "        vectorstore_faiss = FAISS.from_documents(docs, embeddings)\n",
    "        return vectorstore_faiss\n",
    "    except Exception as e:\n",
    "        logging.exception(\"error generating embeddings\")\n",
    "        logging.exception(traceback.format_exc())\n",
    "        raise Exception(e) \n",
    "\n",
    "def QueryBingAndCreateVectorStore(query, subject, factor, direction, no_links, config_file, analysis_id, prefix):\n",
    "    bs = query()\n",
    "    bs = (Parameterise(b, subject, factor, no_links, direction) for b in bs)\n",
    "    #SearchBingGetLinksAndSave(bs, no_links, config_file, analysis_id, prefix)\n",
    "    vs =  CreateVectorDB(config_file, analysis_id, prefix)\n",
    "    return vs\n",
    "\n",
    "def LoadModel(model_props, grammar = ''):\n",
    "    model_path = os.path.join(os.getcwd(), 'models', model_props['name'])\n",
    "    if grammar != '':\n",
    "        grammar_path = os.path.join(os.getcwd(), 'models', grammar)\n",
    "        llm = LlamaCpp(model_path=model_path, \n",
    "            temperature=0.0, \n",
    "            top_p=1,\n",
    "            n_ctx=model_props['n_ctx'], \n",
    "            seed = 42,\n",
    "            verbose=True, \n",
    "            n_gpu_layers=model_props['n_gpu_layers'],\n",
    "            n_batch=model_props['n_batch'],\n",
    "            grammar_path=grammar_path\n",
    "        )\n",
    "        return llm\n",
    "    else:\n",
    "        llm = LlamaCpp(model_path=model_path, \n",
    "            temperature=0.0, \n",
    "            top_p=1,\n",
    "            n_ctx=model_props['n_ctx'], \n",
    "            seed = 42,\n",
    "            verbose=True, \n",
    "            n_gpu_layers=model_props['n_gpu_layers'],\n",
    "            n_batch=model_props['n_batch']\n",
    "        )\n",
    "        return llm\n",
    "\n",
    "def LoadContextAndRunLLM(query, template, model_props, grammar, vectorstore_faiss, config_file, analysis_id, prefix):\n",
    "    prompt = PromptTemplate(template = template, input_variables = [\"context\", \"question\"])\n",
    "    model = LoadModel(model_props, grammar)\n",
    "    qa = RetrievalQA.from_chain_type(\n",
    "        llm=model,\n",
    "        chain_type='stuff',\n",
    "        retriever=vectorstore_faiss.as_retriever(search_type=\"similarity\", search_kwargs={\"k\":10}),\n",
    "        return_source_documents = True,\n",
    "        chain_type_kwargs = {\"prompt\":prompt}\n",
    "    )\n",
    "    res = qa({\"query\": query})\n",
    "    return res\n",
    "\n",
    "def FindFactors(subject, query, direction, no_factors, no_links, vectorstore_faiss, model_props, config_file, analysis_id):\n",
    "    q, t = query()\n",
    "    q = Parameterise(q, subject, '', no_factors, direction) \n",
    "    answer = LoadContextAndRunLLM(q, t, model_props, 'json.gbnf', vectorstore_faiss, config_file, analysis_id, direction + '_factors')\n",
    "    return answer\n",
    "#llm = LoadModel(model_props, 'json.gbnf')\n",
    "\n",
    "def ParseListResult(res):\n",
    "    res = res.replace('\"','')\n",
    "    ls = res.split('\\n')\n",
    "    ls2 = []\n",
    "    for it in ls:\n",
    "        if it != '':\n",
    "            it = it.lower()\n",
    "            it = it.replace('1.','').replace('2.','').replace('3.','').replace('4.','').replace('5.','')\n",
    "            it = it.replace('the first is ','').replace('the second is ','').replace('the third is ','').replace('the fourth is ','').replace('the fifth is ','')\n",
    "            if it != '':\n",
    "                ls2.append(it.strip())\n",
    "    if len(ls2) == 1: #\n",
    "        ls3 = ls2[0].split(',')\n",
    "        ls2 = []\n",
    "        for it in ls3:\n",
    "            ls2.append(it.strip())\n",
    "\n",
    "    for x in range(len(ls2)):\n",
    "        ls2[x] = ls2[x].replace(',','')\n",
    "    return ls2"
   ]
  },
  {
   "cell_type": "code",
   "execution_count": 6,
   "id": "245ba38d-0f7d-4a07-9b98-ea32a0ca1539",
   "metadata": {},
   "outputs": [
    {
     "name": "stderr",
     "output_type": "stream",
     "text": [
      "AVX = 1 | AVX2 = 1 | AVX512 = 0 | AVX512_VBMI = 0 | AVX512_VNNI = 0 | FMA = 1 | NEON = 0 | ARM_FMA = 0 | F16C = 1 | FP16_VA = 0 | WASM_SIMD = 0 | BLAS = 1 | SSE3 = 1 | SSSE3 = 0 | VSX = 0 | \n"
     ]
    }
   ],
   "source": [
    "llm = LoadModel(model_props)"
   ]
  },
  {
   "cell_type": "code",
   "execution_count": 57,
   "id": "32e9c33b-9fa1-4c83-9ec4-b9ddb23bd460",
   "metadata": {},
   "outputs": [
    {
     "name": "stderr",
     "output_type": "stream",
     "text": [
      "Llama.generate: prefix-match hit\n"
     ]
    },
    {
     "data": {
      "text/plain": [
       "'\\n1. Global economic growth expectations - changes (subject) + are influenced by (predicate)\\n2. Economic indicators - release (subject) + impacts (predicate)'"
      ]
     },
     "execution_count": 57,
     "metadata": {},
     "output_type": "execute_result"
    }
   ],
   "source": [
    "prompt = \"\"\"\n",
    "Answer the question at the end using the following context. Answer concisely in list form.\n",
    "From just the context below, \n",
    "<context>\n",
    "changes in global economic growth expectations\n",
    "</context>\n",
    "Q: Identify the individual subject + predicate combinations and simplify. A:\n",
    "\"\"\"\n",
    "res = llm(prompt)\n",
    "res"
   ]
  },
  {
   "cell_type": "code",
   "execution_count": 74,
   "id": "012496f7-1e05-4717-9249-48e676d6318b",
   "metadata": {},
   "outputs": [
    {
     "name": "stderr",
     "output_type": "stream",
     "text": [
      "Llama.generate: prefix-match hit\n"
     ]
    },
    {
     "data": {
      "text/plain": [
       "'\\n* Speculation\\n* Changes in market sentiment'"
      ]
     },
     "execution_count": 74,
     "metadata": {},
     "output_type": "execute_result"
    }
   ],
   "source": [
    "prompt = \"\"\"\n",
    "Answer the question at the end using the following context. Answer in list form with each item just being a few words max.\n",
    "<context>\n",
    "speculation or changes in market sentiment\n",
    "</context>\n",
    "Q: Identify and seperate subjects in the context and create standalone bullet points. If there is only one subject, then there should only be one item in the list. A:\n",
    "\"\"\"\n",
    "res = llm(prompt)\n",
    "res"
   ]
  },
  {
   "cell_type": "code",
   "execution_count": 71,
   "id": "89668f93-f9db-418f-9a26-5f47cc4824c7",
   "metadata": {},
   "outputs": [
    {
     "name": "stdout",
     "output_type": "stream",
     "text": [
      "loading vector db at directory: C:\\Data\\Code\\llm_rag\\output\\test\\html\\Nymex_Crude_Oil\\sentiment_search\\\n",
      "splitting documents\n",
      "generating embeddings\n"
     ]
    }
   ],
   "source": [
    "#prefix = direction + '_search'\n",
    "# create vector store with bing search results for top n factors\n",
    "vs = QueryBingAndCreateVectorStore(func_dict[factor_store], subject,  '', '', no_links, config_file, analysis_id, 'sentiment_search')\n"
   ]
  },
  {
   "cell_type": "code",
   "execution_count": 73,
   "id": "49422bed-8bb3-401c-851d-143af7dcd127",
   "metadata": {},
   "outputs": [],
   "source": [
    "query = 'Is the value of nymex crude oil likely to \"Increase\" or \"Decrease\" in the near future'\n",
    "docs = vs.similarity_search(query)"
   ]
  },
  {
   "cell_type": "code",
   "execution_count": 74,
   "id": "5fa00957-4b10-424d-9ddb-b041551de026",
   "metadata": {},
   "outputs": [
    {
     "data": {
      "text/plain": [
       "[Document(page_content=\"NYMEX Crude Oil Front Month + Add to watchlistCL.1:NYMNYMEX Crude Oil Front MonthActionsAdd to watchlistPrice (USD)71.23Today's Change1.62 / 2.33%Shares traded0.001 Year change-0.78%52 week range63.64 - 95.03Data delayed at least 10 minutes, as of Dec 09 2023 21:59 GMT.More ▼Register and Take ActionRegister a free account to add this security to a watchlist, portfolio, or create an alert to track market movement.Register a free limited accountApplyCancelActionsAdd to Your WatchlistsNew\", metadata={'source': 'C:\\\\Data\\\\Code\\\\llm_rag\\\\output\\\\test\\\\html\\\\Nymex_Crude_Oil\\\\sentiment_search\\\\1.html', 'title': 'NYMEX Crude Oil Front Month price information - FT.com'}),\n",
       " Document(page_content=\"NYMEX Crude Oil Front Month + Add to watchlistCL.1:NYMNYMEX Crude Oil Front MonthActionsAdd to watchlistPrice (USD)71.23Today's Change1.62 / 2.33%Shares traded0.001 Year change-0.78%52 week range63.64 - 95.03Data delayed at least 10 minutes, as of Dec 09 2023 21:59 GMT.More ▼Register and Take ActionRegister a free account to add this security to a watchlist, portfolio, or create an alert to track market movement.Register a free limited accountApplyCancelActionsAdd to Your WatchlistsNew\", metadata={'source': 'C:\\\\Data\\\\Code\\\\llm_rag\\\\output\\\\test\\\\html\\\\Nymex_Crude_Oil\\\\sentiment_search\\\\2.html', 'title': 'NYMEX Crude Oil Front Month price information - FT.com'}),\n",
       " Document(page_content='NYMEX Crude Oil Front Month price information - FT.com\\n\\n\\n\\n\\n\\n\\n\\n\\n\\n\\n\\n\\n\\n\\n\\n\\n\\n\\n\\n\\n\\n\\n\\n\\n\\n\\n\\n\\n\\nSubscribe\\n\\n\\nSign In\\n\\n\\n\\n\\n\\n\\n\\n\\nMenu\\n\\n\\nSearch\\n\\n\\n\\n\\nFinancial Times\\n\\n\\n\\n\\nmyFT\\n\\n\\n\\n\\n\\n\\n\\n\\n\\n\\nSearch the FT\\n\\n\\n\\n\\t\\t\\t\\t\\tSearch\\n\\n\\t\\t\\t\\t\\n\\n\\n\\n\\n\\n\\nSearch the FT\\n\\n\\n\\n\\t\\t\\t\\t\\tSearch\\n\\n\\t\\t\\t\\t\\n\\nClose\\n\\n\\n\\n\\nHomeWorldUSCompaniesTechMarketsClimateOpinionWork & CareersLife & ArtsHTSISign InSubscribe\\n\\n\\n\\n\\nMarketsMarkets DataCommodities', metadata={'source': 'C:\\\\Data\\\\Code\\\\llm_rag\\\\output\\\\test\\\\html\\\\Nymex_Crude_Oil\\\\sentiment_search\\\\1.html', 'title': 'NYMEX Crude Oil Front Month price information - FT.com'}),\n",
       " Document(page_content='NYMEX Crude Oil Front Month price information - FT.com\\n\\n\\n\\n\\n\\n\\n\\n\\n\\n\\n\\n\\n\\n\\n\\n\\n\\n\\n\\n\\n\\n\\n\\n\\n\\n\\n\\n\\n\\nSubscribe\\n\\n\\nSign In\\n\\n\\n\\n\\n\\n\\n\\n\\nMenu\\n\\n\\nSearch\\n\\n\\n\\n\\nFinancial Times\\n\\n\\n\\n\\nmyFT\\n\\n\\n\\n\\n\\n\\n\\n\\n\\n\\nSearch the FT\\n\\n\\n\\n\\t\\t\\t\\t\\tSearch\\n\\n\\t\\t\\t\\t\\n\\n\\n\\n\\n\\n\\nSearch the FT\\n\\n\\n\\n\\t\\t\\t\\t\\tSearch\\n\\n\\t\\t\\t\\t\\n\\nClose\\n\\n\\n\\n\\nHomeWorldUSCompaniesTechMarketsClimateOpinionWork & CareersLife & ArtsHTSISign InSubscribe\\n\\n\\n\\n\\nMarketsMarkets DataCommodities', metadata={'source': 'C:\\\\Data\\\\Code\\\\llm_rag\\\\output\\\\test\\\\html\\\\Nymex_Crude_Oil\\\\sentiment_search\\\\2.html', 'title': 'NYMEX Crude Oil Front Month price information - FT.com'})]"
      ]
     },
     "execution_count": 74,
     "metadata": {},
     "output_type": "execute_result"
    }
   ],
   "source": [
    "docs"
   ]
  },
  {
   "cell_type": "code",
   "execution_count": 86,
   "id": "604d3542-4dab-4504-abde-1f113e9e7497",
   "metadata": {},
   "outputs": [],
   "source": [
    "def SentimentAnalysis_0():\n",
    "    p = 'In the near future, the value of {subject} likely to '\n",
    "    t = \"\"\"\n",
    "Use only the context below to finish the Statement at the end. Answer in json form with the keys \"answer\" and \"explanation\".\n",
    "<context>\n",
    "{context}\n",
    "</context>\n",
    "Statement: {question}\n",
    "\"\"\"\n",
    "    return p, t"
   ]
  },
  {
   "cell_type": "code",
   "execution_count": 87,
   "id": "70e860ee-536a-436d-91b1-b0cd3086dab3",
   "metadata": {},
   "outputs": [
    {
     "name": "stderr",
     "output_type": "stream",
     "text": [
      "AVX = 1 | AVX2 = 1 | AVX512 = 0 | AVX512_VBMI = 0 | AVX512_VNNI = 0 | FMA = 1 | NEON = 0 | ARM_FMA = 0 | F16C = 1 | FP16_VA = 0 | WASM_SIMD = 0 | BLAS = 1 | SSE3 = 1 | SSSE3 = 0 | VSX = 0 | \n",
      "from_string grammar:\n",
      "\n"
     ]
    },
    {
     "name": "stdout",
     "output_type": "stream",
     "text": [
      "root ::= object \n",
      "object ::= [{] ws object_11 [}] ws \n",
      "value ::= object | array | string | number | value_6 ws \n",
      "array ::= [[] ws array_15 []] ws \n",
      "string ::= [\"] string_18 [\"] ws \n",
      "number ::= number_19 number_25 number_29 ws \n",
      "value_6 ::= [t] [r] [u] [e] | [f] [a] [l] [s] [e] | [n] [u] [l] [l] \n",
      "ws ::= ws_31 \n",
      "object_8 ::= string [:] ws value object_10 \n",
      "object_9 ::= [,] ws string [:] ws value \n",
      "object_10 ::= object_9 object_10 | \n",
      "object_11 ::= object_8 | \n",
      "array_12 ::= value array_14 \n",
      "array_13 ::= [,] ws value \n",
      "array_14 ::= array_13 array_14 | \n",
      "array_15 ::= array_12 | \n",
      "string_16 ::= [^\"\\] | [\\] string_17 \n",
      "string_17 ::= [\"\\/bfnrt] | [u] [0-9a-fA-F] [0-9a-fA-F] [0-9a-fA-F] [0-9a-fA-F] \n",
      "string_18 ::= string_16 string_18 | \n",
      "number_19 ::= number_20 number_21 \n",
      "number_20 ::= [-] | \n",
      "number_21 ::= [0-9] | [1-9] number_22 \n",
      "number_22 ::= [0-9] number_22 | \n",
      "number_23 ::= [.] number_24 \n",
      "number_24 ::= [0-9] number_24 | [0-9] \n",
      "number_25 ::= number_23 | \n",
      "number_26 ::= [eE] number_27 number_28 \n",
      "number_27 ::= [-+] | \n",
      "number_28 ::= [0-9] number_28 | [0-9] \n",
      "number_29 ::= number_26 | \n",
      "ws_30 ::= [ <U+0009><U+000A>] ws \n",
      "ws_31 ::= ws_30 | \n"
     ]
    }
   ],
   "source": [
    "# use llm query to extract the top n factors\n",
    "factors = FindFactors(subject, SentimentAnalysis_0, direction, no_factors, no_links, vs, model_props, config_file, analysis_id)"
   ]
  },
  {
   "cell_type": "code",
   "execution_count": 88,
   "id": "1c9c94e6-916a-453f-833a-28bc2648ca12",
   "metadata": {},
   "outputs": [
    {
     "data": {
      "text/plain": [
       "{'query': 'In the near future, the value of Nymex Crude Oil likely to ',\n",
       " 'result': '{                                                                                                                                                                                                                                                               ',\n",
       " 'source_documents': [Document(page_content=\"NYMEX Crude Oil Front Month + Add to watchlistCL.1:NYMNYMEX Crude Oil Front MonthActionsAdd to watchlistPrice (USD)71.23Today's Change1.62 / 2.33%Shares traded0.001 Year change-0.78%52 week range63.64 - 95.03Data delayed at least 10 minutes, as of Dec 09 2023 21:59 GMT.More ▼Register and Take ActionRegister a free account to add this security to a watchlist, portfolio, or create an alert to track market movement.Register a free limited accountApplyCancelActionsAdd to Your WatchlistsNew\", metadata={'source': 'C:\\\\Data\\\\Code\\\\llm_rag\\\\output\\\\test\\\\html\\\\Nymex_Crude_Oil\\\\sentiment_search\\\\1.html', 'title': 'NYMEX Crude Oil Front Month price information - FT.com'}),\n",
       "  Document(page_content=\"NYMEX Crude Oil Front Month + Add to watchlistCL.1:NYMNYMEX Crude Oil Front MonthActionsAdd to watchlistPrice (USD)71.23Today's Change1.62 / 2.33%Shares traded0.001 Year change-0.78%52 week range63.64 - 95.03Data delayed at least 10 minutes, as of Dec 09 2023 21:59 GMT.More ▼Register and Take ActionRegister a free account to add this security to a watchlist, portfolio, or create an alert to track market movement.Register a free limited accountApplyCancelActionsAdd to Your WatchlistsNew\", metadata={'source': 'C:\\\\Data\\\\Code\\\\llm_rag\\\\output\\\\test\\\\html\\\\Nymex_Crude_Oil\\\\sentiment_search\\\\2.html', 'title': 'NYMEX Crude Oil Front Month price information - FT.com'}),\n",
       "  Document(page_content='NYMEX Crude Oil Front Month price information - FT.com\\n\\n\\n\\n\\n\\n\\n\\n\\n\\n\\n\\n\\n\\n\\n\\n\\n\\n\\n\\n\\n\\n\\n\\n\\n\\n\\n\\n\\n\\nSubscribe\\n\\n\\nSign In\\n\\n\\n\\n\\n\\n\\n\\n\\nMenu\\n\\n\\nSearch\\n\\n\\n\\n\\nFinancial Times\\n\\n\\n\\n\\nmyFT\\n\\n\\n\\n\\n\\n\\n\\n\\n\\n\\nSearch the FT\\n\\n\\n\\n\\t\\t\\t\\t\\tSearch\\n\\n\\t\\t\\t\\t\\n\\n\\n\\n\\n\\n\\nSearch the FT\\n\\n\\n\\n\\t\\t\\t\\t\\tSearch\\n\\n\\t\\t\\t\\t\\n\\nClose\\n\\n\\n\\n\\nHomeWorldUSCompaniesTechMarketsClimateOpinionWork & CareersLife & ArtsHTSISign InSubscribe\\n\\n\\n\\n\\nMarketsMarkets DataCommodities', metadata={'source': 'C:\\\\Data\\\\Code\\\\llm_rag\\\\output\\\\test\\\\html\\\\Nymex_Crude_Oil\\\\sentiment_search\\\\1.html', 'title': 'NYMEX Crude Oil Front Month price information - FT.com'}),\n",
       "  Document(page_content='NYMEX Crude Oil Front Month price information - FT.com\\n\\n\\n\\n\\n\\n\\n\\n\\n\\n\\n\\n\\n\\n\\n\\n\\n\\n\\n\\n\\n\\n\\n\\n\\n\\n\\n\\n\\n\\nSubscribe\\n\\n\\nSign In\\n\\n\\n\\n\\n\\n\\n\\n\\nMenu\\n\\n\\nSearch\\n\\n\\n\\n\\nFinancial Times\\n\\n\\n\\n\\nmyFT\\n\\n\\n\\n\\n\\n\\n\\n\\n\\n\\nSearch the FT\\n\\n\\n\\n\\t\\t\\t\\t\\tSearch\\n\\n\\t\\t\\t\\t\\n\\n\\n\\n\\n\\n\\nSearch the FT\\n\\n\\n\\n\\t\\t\\t\\t\\tSearch\\n\\n\\t\\t\\t\\t\\n\\nClose\\n\\n\\n\\n\\nHomeWorldUSCompaniesTechMarketsClimateOpinionWork & CareersLife & ArtsHTSISign InSubscribe\\n\\n\\n\\n\\nMarketsMarkets DataCommodities', metadata={'source': 'C:\\\\Data\\\\Code\\\\llm_rag\\\\output\\\\test\\\\html\\\\Nymex_Crude_Oil\\\\sentiment_search\\\\2.html', 'title': 'NYMEX Crude Oil Front Month price information - FT.com'}),\n",
       "  Document(page_content=\"USD0.000.00%Today2.15May 04 20233.58Jan 24 2023Natural GasAs of Dec 09 2023 21:59 GMT.2.58  USD0.000.00%Today1.94Mar 29 20237.11Dec 13 2022RBOB GasolineAs of Dec 09 2023 21:59 GMT.2.05  USD0.000.00%Today2.00Dec 07 20232.99Jul 28 2023WTI Crude OilAs of Dec 09 2023 21:59 GMT.71.23  USD0.000.00%Today63.64May 04 202395.03Sep 28 2023CommodityLast price/contractToday's change1-year trendLow52-weekHighCopperAs of Dec 09 2023 18:01 GMT.3.82  USD0.000.00%Today3.53Oct 23 20234.31Jan 18 2023COMEX GoldAs\", metadata={'source': 'C:\\\\Data\\\\Code\\\\llm_rag\\\\output\\\\test\\\\html\\\\Nymex_Crude_Oil\\\\sentiment_search\\\\1.html', 'title': 'NYMEX Crude Oil Front Month price information - FT.com'}),\n",
       "  Document(page_content=\"USD0.000.00%Today2.15May 04 20233.58Jan 24 2023Natural GasAs of Dec 09 2023 21:59 GMT.2.58  USD0.000.00%Today1.94Mar 29 20237.11Dec 13 2022RBOB GasolineAs of Dec 09 2023 21:59 GMT.2.05  USD0.000.00%Today2.00Dec 07 20232.99Jul 28 2023WTI Crude OilAs of Dec 09 2023 21:59 GMT.71.23  USD0.000.00%Today63.64May 04 202395.03Sep 28 2023CommodityLast price/contractToday's change1-year trendLow52-weekHighCopperAs of Dec 09 2023 18:01 GMT.3.82  USD0.000.00%Today3.53Oct 23 20234.31Jan 18 2023COMEX GoldAs\", metadata={'source': 'C:\\\\Data\\\\Code\\\\llm_rag\\\\output\\\\test\\\\html\\\\Nymex_Crude_Oil\\\\sentiment_search\\\\2.html', 'title': 'NYMEX Crude Oil Front Month price information - FT.com'}),\n",
       "  Document(page_content=\"USD0.000.00%Today843.10Nov 10 20231,167.50Apr 21 2023Silver 5000ozAs of Dec 09 2023 21:36 GMT.22.97  USD0.000.00%Today19.83Mar 08 202326.20May 05 2023Iron oreAs of Dec 08 2023.135.45  USD0.000.00%CommodityLast price/contractToday's change1-year trendLow52-weekHighSugar #11As of Dec 08 2023 17:59 GMT.23.40  USc+0.37+1.61%Today18.92Jan 09 202328.14Nov 07 2023White SugarAs of Dec 08 2023 17:59 GMT.654.40  USD+8.30+1.28%Today527.00Jan 06 2023772.90Nov 07 2023Coffee (Arabica)As of Dec 08 2023 15:17\", metadata={'source': 'C:\\\\Data\\\\Code\\\\llm_rag\\\\output\\\\test\\\\html\\\\Nymex_Crude_Oil\\\\sentiment_search\\\\1.html', 'title': 'NYMEX Crude Oil Front Month price information - FT.com'}),\n",
       "  Document(page_content=\"USD0.000.00%Today843.10Nov 10 20231,167.50Apr 21 2023Silver 5000ozAs of Dec 09 2023 21:36 GMT.22.97  USD0.000.00%Today19.83Mar 08 202326.20May 05 2023Iron oreAs of Dec 08 2023.135.45  USD0.000.00%CommodityLast price/contractToday's change1-year trendLow52-weekHighSugar #11As of Dec 08 2023 17:59 GMT.23.40  USc+0.37+1.61%Today18.92Jan 09 202328.14Nov 07 2023White SugarAs of Dec 08 2023 17:59 GMT.654.40  USD+8.30+1.28%Today527.00Jan 06 2023772.90Nov 07 2023Coffee (Arabica)As of Dec 08 2023 15:17\", metadata={'source': 'C:\\\\Data\\\\Code\\\\llm_rag\\\\output\\\\test\\\\html\\\\Nymex_Crude_Oil\\\\sentiment_search\\\\2.html', 'title': 'NYMEX Crude Oil Front Month price information - FT.com'}),\n",
       "  Document(page_content=\"2023COMEX GoldAs of Dec 09 2023 21:58 GMT.1,998.30  USD0.000.00%Today1,774.80Dec 15 20222,130.20Dec 04 2023PalladiumAs of Dec 09 2023 21:59 GMT.951.60  USD0.000.00%Today926.50Dec 05 20232,059.50Dec 13 2022PlatinumAs of Dec 09 2023 21:59 GMT.919.80  USD0.000.00%Today843.10Nov 10 20231,167.50Apr 21 2023Silver 5000ozAs of Dec 09 2023 21:36 GMT.22.97  USD0.000.00%Today19.83Mar 08 202326.20May 05 2023Iron oreAs of Dec 08 2023.135.45  USD0.000.00%CommodityLast price/contractToday's change1-year\", metadata={'source': 'C:\\\\Data\\\\Code\\\\llm_rag\\\\output\\\\test\\\\html\\\\Nymex_Crude_Oil\\\\sentiment_search\\\\1.html', 'title': 'NYMEX Crude Oil Front Month price information - FT.com'}),\n",
       "  Document(page_content=\"2023COMEX GoldAs of Dec 09 2023 21:58 GMT.1,998.30  USD0.000.00%Today1,774.80Dec 15 20222,130.20Dec 04 2023PalladiumAs of Dec 09 2023 21:59 GMT.951.60  USD0.000.00%Today926.50Dec 05 20232,059.50Dec 13 2022PlatinumAs of Dec 09 2023 21:59 GMT.919.80  USD0.000.00%Today843.10Nov 10 20231,167.50Apr 21 2023Silver 5000ozAs of Dec 09 2023 21:36 GMT.22.97  USD0.000.00%Today19.83Mar 08 202326.20May 05 2023Iron oreAs of Dec 08 2023.135.45  USD0.000.00%CommodityLast price/contractToday's change1-year\", metadata={'source': 'C:\\\\Data\\\\Code\\\\llm_rag\\\\output\\\\test\\\\html\\\\Nymex_Crude_Oil\\\\sentiment_search\\\\2.html', 'title': 'NYMEX Crude Oil Front Month price information - FT.com'})]}"
      ]
     },
     "execution_count": 88,
     "metadata": {},
     "output_type": "execute_result"
    }
   ],
   "source": [
    "factors"
   ]
  },
  {
   "cell_type": "code",
   "execution_count": 68,
   "id": "f7eed2d5-5630-464a-a3e5-377113e113b5",
   "metadata": {},
   "outputs": [
    {
     "data": {
      "text/plain": [
       "['increased demand for crude oil',\n",
       " 'decreased supply of crude oil',\n",
       " 'geopolitical issues affecting crude oil production',\n",
       " 'changes in currency exchange rates',\n",
       " 'speculation in the financial markets']"
      ]
     },
     "execution_count": 68,
     "metadata": {},
     "output_type": "execute_result"
    }
   ],
   "source": [
    "def ParseListResult(res):\n",
    "    res = res.replace('\"','')\n",
    "    ls = res.split('\\n')\n",
    "    ls2 = []\n",
    "    for it in ls:\n",
    "        if it != '':\n",
    "            it = it.lower()\n",
    "            it = it.replace('1.','').replace('2.','').replace('3.','').replace('4.','').replace('5.','')\n",
    "            it = it.replace('the first is ','').replace('the second is ','').replace('the third is ','').replace('the fourth is ','').replace('the fifth is ','')\n",
    "            if it != '':\n",
    "                ls2.append(it.strip())\n",
    "    if len(ls2) == 1: #\n",
    "        ls3 = ls2[0].split(',')\n",
    "        ls2 = []\n",
    "        for it in ls3:\n",
    "            ls2.append(it.strip())\n",
    "\n",
    "    for x in range(len(ls2)):\n",
    "        ls2[x] = ls2[x].replace(',','')\n",
    "    return ls2\n",
    "\n",
    "ParseListResult('\\n1. Increased demand for crude oil\\n2. Decreased supply of crude oil\\n3. Geopolitical issues affecting crude oil production\\n4. Changes in currency exchange rates\\n5. Speculation in the financial markets')"
   ]
  },
  {
   "cell_type": "code",
   "execution_count": null,
   "id": "a8705680-b5aa-45e0-96fb-cd5ca92e1a3d",
   "metadata": {},
   "outputs": [],
   "source": []
  },
  {
   "cell_type": "code",
   "execution_count": null,
   "id": "cb84f679-c22d-474c-91fa-e1d23673fc65",
   "metadata": {},
   "outputs": [],
   "source": []
  },
  {
   "cell_type": "code",
   "execution_count": 41,
   "id": "dfad3168-96fd-486b-a86e-df86ee32cff0",
   "metadata": {},
   "outputs": [
    {
     "data": {
      "text/plain": [
       "{'query': 'Precisely what are the 5 biggest factors that cause the value of Nymex Crude Oil to Increase',\n",
       " 'result': '\\n1. The first is the geopolitical factor (geopolitics), including the supply and demand for crude oil, the second is the weather, the third is the storage, the fourth is the number of days it takes 5 days.',\n",
       " 'source_documents': [Document(page_content='The nominal price of crude oil is just one factor involved in understanding the crude oil market.\\xa0\\n\\n\\n\\nAccording to CME Group, which runs the NYMEX commodities market, the WTI/Brent Spread is influenced by four key factors:\\n\\n\\n\\nU.S. crude oil production levelsCrude oil supply-and-demand balance in the U.S.North Sea crude oil operationsGeopolitical issues in the international crude oil market\\n\\n\\n   How World Events Can Affect Crude Oil Prices  \\n\\nPolitical shifts, weather events, and global health crises have been some of the biggest shock factors in the oil market.\\n\\n\\n\\n\\nNote\\n\\nBecause of the coronavirus outbreak, the International Energy Agency (IEA) cut its forecast for global oil demand in March 2020, predicting the first year-over-year decline in demand since 2009.', metadata={'source': 'C:\\\\Data\\\\Code\\\\llm_rag\\\\output\\\\test\\\\html\\\\Nymex_Crude_Oil\\\\Increase_search\\\\1.html', 'title': 'Understanding the Crude Oil Market'}),\n",
       "  Document(page_content='updated monthly and quarterly\\n \\nCrude Oil\\nPetroleum Products\\n\\n\\n\\n\\n\\n\\n\\n\\n\\n\\n\\n\\xa0\\n\\xa0\\n\\xa0\\n\\n\\n\\n\\n\\n\\n\\n\\n\\n\\n\\n\\n\\n\\n\\n\\n\\n\\n\\n\\n\\n\\n\\n\\n\\n\\n\\n\\n\\n\\n\\n\\n\\n\\n\\n\\n\\n\\n\\n\\n\\n\\nSpot Prices \\xa0|\\xa0\\n\\n\\t\\t\\tSupply Non-OPEC \\xa0|\\xa0\\n\\n\\t\\t\\tSupply OPEC \\xa0|\\xa0\\n\\n\\t\\t\\tBalance \\xa0|\\xa0\\n\\n\\t\\t\\tFinancial Markets \\xa0|\\xa0\\n\\n\\t\\t\\tDemand Non-OECD \\xa0|\\xa0\\n\\n\\t\\t\\tDemand OECD\\n\\n\\n\\n \\xa0\\n\\n\\n\\nWhat drives crude oil prices: Overview\\nWe assess the various factors that may influence crude oil prices — physical market factors as well as\\n\\n\\t\\t\\t\\tthose related to trading and financial markets. We describe the seven key factors that could influence oil\\n\\n\\t\\t\\t\\tmarkets and explore possible links between each factor and crude oil prices. We include regularly updated\\n\\n\\t\\t\\t\\tgraphs that depict aspects of those relationships. \\nSeveral graphs include projections from our Short-Term Energy Outlook. Graphs\\n\\n\\t\\t\\t\\tare updated with new data on a monthly, quarterly, and annual basis according to the schedule below. Analytical\\n\\n\\t\\t\\t\\ttext will be updated as needed. \\n\\nAll graphs\\n\\n\\n\\n\\n\\n\\t\\t\\t\\t\\t\\tGraph update schedule by section', metadata={'source': 'C:\\\\Data\\\\Code\\\\llm_rag\\\\output\\\\test\\\\html\\\\Nymex_Crude_Oil\\\\Increase_search\\\\3.html', 'title': 'Energy & Financial Markets: What Drives Crude Oil Prices? - Energy Information Administration'}),\n",
       "  Document(page_content='but you can’t predict the future accurately. As an investor, you never know what will happen next. Therefore, if the price changes quickly, you may feel like you are losing and close your trade prematurely instead of remaining calm and letting your stop-loss order get you out of the trade. Do not be greedy when trading the markets since it may lead to significant losses as you focus on making big profits.\\xa0\\xa0No matter the amount of technical analysis you have done, it is impossible to be completely accurate. Compared to the practice process, it is necessary to combine multiple technologies to do a comprehensive analysis to increase your chances of success.\\xa05 factors that affect crude oil trends:Crude oil has always been the one commodity that powers the world economy and has always been a determining factor in international politics and economic strength. Therefore, the price of crude oil is affected by multiple factors. In addition, new energy products that completely replace crude oil', metadata={'source': 'C:\\\\Data\\\\Code\\\\llm_rag\\\\output\\\\test\\\\html\\\\Nymex_Crude_Oil\\\\Increase_search\\\\4.html', 'title': '3 Crude Oil Trading Beginner Tips & 5 Factors That Affect Crude Oil Prices'}),\n",
       "  Document(page_content='factor in international politics and economic strength. Therefore, the price of crude oil is affected by multiple factors. In addition, new energy products that completely replace crude oil have emerged in the recent past. Therefore, the dynamics of international politics influence the global economy. Nevertheless, the relationship between supply and demand is still one of the main factors determining crude oil prices.Development of international normsThe Middle East is the leading crude oil production region. In addition, Venezuela or some other countries also provide part of the global crude oil production. Changes in the political situation within the Middle East have always been the basis for crude oil price trend changes. OPEC’s policies also affect the trends in crude oil prices to a large extent.Natural causesWeather and other natural factors influence a large part of the crude oil market that is used to supply energy. Not only will extreme weather conditions lead to a surge in', metadata={'source': 'C:\\\\Data\\\\Code\\\\llm_rag\\\\output\\\\test\\\\html\\\\Nymex_Crude_Oil\\\\Increase_search\\\\4.html', 'title': '3 Crude Oil Trading Beginner Tips & 5 Factors That Affect Crude Oil Prices'}),\n",
       "  Document(page_content='large extent.Natural causesWeather and other natural factors influence a large part of the crude oil market that is used to supply energy. Not only will extreme weather conditions lead to a surge in energy demand, but they could also hinder oil transportation due to travel restrictions creating a supply shortage. Extreme weather tends to create challenges in the supply of crude oil, which promotes rising crude oil prices.Power of international economic developmentAs a consumer product, the relationship between supply and demand is still the main factor determining the crude oil price. When the economy is good, the oil demand increases, leading to rising crude oil prices.Substitution of refined productsIn the 1970s, multiple crises triggered wars in the Middle East, leading to changes in global geopolitics and oil supply dynamics going forward. The crises made many countries led by the United States realize the importance of crude oil as a global energy source. As a result, US oil', metadata={'source': 'C:\\\\Data\\\\Code\\\\llm_rag\\\\output\\\\test\\\\html\\\\Nymex_Crude_Oil\\\\Increase_search\\\\4.html', 'title': '3 Crude Oil Trading Beginner Tips & 5 Factors That Affect Crude Oil Prices'}),\n",
       "  Document(page_content='learn about our financial review board\\n\\n\\n\\n\\n\\n\\n\\n\\n\\n\\n\\n\\n\\n\\n\\n\\nIn This Article\\n\\n\\nView All\\n\\n\\n\\n\\nIn This Article\\n\\n\\n\\n\\n\\n\\n\\nThe 2 Key Grades of Crude Oil\\n\\n\\n\\n\\n\\n\\n\\nBenchmarks and Trading Markets\\n\\n\\n\\n\\n\\n\\n\\nFactors That Affect Benchmark Pricing\\n\\n\\n\\n\\n\\n\\n\\nImpact of World Events on Crude Oil Prices\\n\\n\\n\\n\\n\\n\\n\\nFrequently Asked Questions (FAQs)\\n\\n\\n\\n\\n\\n\\n\\n\\n\\n\\n\\n\\n\\n\\n\\n\\n\\n\\n\\n \\n\\nPhoto: LEREXIS / Getty Images\\n\\n\\n\\n\\n\\nCrude oil is a fundamental source of energy for the world’s economy. Besides being one of the most actively traded commodities, the price of crude oil is extremely sensitive to geopolitical and weather events.\\n\\n\\n\\nThe world crude oil market is all about investor anticipation of supply and demand, and oil prices are very volatile and highly influenced by consumer and investor sentiment. As such, global events such as the COVID-19 pandemic can send shockwaves throughout the market.\\xa0\\xa0\\n\\n\\n\\n\\nKey Takeaways', metadata={'source': 'C:\\\\Data\\\\Code\\\\llm_rag\\\\output\\\\test\\\\html\\\\Nymex_Crude_Oil\\\\Increase_search\\\\1.html', 'title': 'Understanding the Crude Oil Market'}),\n",
       "  Document(page_content='monopolized, the contradiction between supply and demand caused by strong demand growth, the gap control of storage, supply, demand, and inventory in the transaction process, changes in the price of petrodollars, excessive speculations by traders, and the impact of emergencies all have triggered violent and frequent fluctuations in crude oil prices. Crude oil futures prices are the combination of natural laws (laws of sustainable development), micro-market laws, financial market laws, and emergencies and policy regulations in different time and space. According to the scope of action, degree of influence, and frequency of occurrence, the main controlling factors that affect crude oil futures price fluctuations are mainly divided into three categories: First, the basic factors that affect the medium and long-term trend, mainly including crude oil supply, crude oil demand and crude oil transaction settlement currency, while basic factors have a direct impact on the international crude', metadata={'source': 'C:\\\\Data\\\\Code\\\\llm_rag\\\\output\\\\test\\\\html\\\\Nymex_Crude_Oil\\\\Increase_search\\\\0.html', 'title': 'Applied Sciences | Free Full-Text | Influencing Factors Analysis of Crude Oil Futures Price Volatility Based on Mixed-Frequency Data'}),\n",
       "  Document(page_content='changes to a certain extent, which intensifies market volatility in the crude oil market. However, from the perspective of crude oil, as a global bulk product, speculative factors are not the main factor in market fluctuations.⑤ From the supply and demand level: From the perspective of the level effect coefficients', metadata={'source': 'C:\\\\Data\\\\Code\\\\llm_rag\\\\output\\\\test\\\\html\\\\Nymex_Crude_Oil\\\\Increase_search\\\\0.html', 'title': 'Applied Sciences | Free Full-Text | Influencing Factors Analysis of Crude Oil Futures Price Volatility Based on Mixed-Frequency Data'}),\n",
       "  Document(page_content='are also of great significance for asset pricing and risk management, and the price volatility and volatility changes of commodities will also affect the pricing of commodity derivatives and the construction of the optimal hedging ratio [5]. Therefore, the study of fluctuation factors becomes the focus of research. Simple fundamental factors can no longer fully explain the volatility of oil prices. Existing studies have explored some factors that cause the volatility of crude oil prices and crude oil futures prices. The factors include OPEC’s market and demand structure and demand elasticity [6], OPEC and the U.S. strategic petroleum reserve (SPR) announcement for crude oil spot and futures markets [7], the information efficiency of crude oil inventory positions [8,9], speculative factors [10], and irregular extreme events [2], natural disasters [11], geopolitical risks (GPRS) [12], even including the “long memory” of oil price fluctuation [13].For oil futures, compared to the', metadata={'source': 'C:\\\\Data\\\\Code\\\\llm_rag\\\\output\\\\test\\\\html\\\\Nymex_Crude_Oil\\\\Increase_search\\\\0.html', 'title': 'Applied Sciences | Free Full-Text | Influencing Factors Analysis of Crude Oil Futures Price Volatility Based on Mixed-Frequency Data'}),\n",
       "  Document(page_content='the medium and long-term trend, mainly including crude oil supply, crude oil demand and crude oil transaction settlement currency, while basic factors have a direct impact on the international crude oil futures prices; second, structural factors that affect the short-term trend, mainly include crude oil inventories in the spot market and changes in the prices of substitutes (natural gas, coal), changes in positions (arbitrage and speculation, etc.) on the financial market (future market); third, incidental factors that trigger short-term fluctuations, mainly including international political turbulence, geopolitical events, wars, and sudden climate changes. In the market, the various factors and categories of crude oil prices are independent and interactive with each other, showing integrity, organic correlation, dynamic development, orderliness, and complexity, forming a “transaction–market–environment” system. In this system, supply, demand, and crude oil transaction settlement', metadata={'source': 'C:\\\\Data\\\\Code\\\\llm_rag\\\\output\\\\test\\\\html\\\\Nymex_Crude_Oil\\\\Increase_search\\\\0.html', 'title': 'Applied Sciences | Free Full-Text | Influencing Factors Analysis of Crude Oil Futures Price Volatility Based on Mixed-Frequency Data'})]}"
      ]
     },
     "execution_count": 41,
     "metadata": {},
     "output_type": "execute_result"
    }
   ],
   "source": [
    "factors"
   ]
  },
  {
   "cell_type": "code",
   "execution_count": null,
   "id": "241ac9ce-a6e5-44a1-94b4-5e6c95da4bcc",
   "metadata": {},
   "outputs": [],
   "source": []
  },
  {
   "cell_type": "code",
   "execution_count": 11,
   "id": "7bea5bfd-e9ca-4148-93ce-ee6ee07a5d8c",
   "metadata": {},
   "outputs": [
    {
     "data": {
      "text/plain": [
       "{'query': 'Precisely what are the 5 biggest factors that cause the value of ethereum to Increase',\n",
       " 'result': '[\\n\"Adoption and Network Usage\",\\n\"Market Sentiment\",\\n\"Competition\",\\n\"Supply and Demand\",\\n\"Government and Regulatory Developments\"\\n]',\n",
       " 'source_documents': [Document(page_content='3 reasons why Ethereum has been rising faster than Bitcoin price in 2021', metadata={'source': 'C:\\\\Data\\\\Code\\\\llm_rag\\\\output\\\\test\\\\html\\\\ethereum\\\\Increase_search\\\\4.html', 'title': '3 reasons why Ethereum has been rising faster than Bitcoin price in 2021'}),\n",
       "  Document(page_content='trading. In this article, we will discuss some of the major factors that can impact Ethereum’s price movements. \\xa0    Related Articles         Spillovers in Volatility Among Cryptocurrency Time Series  November 18, 2023         RIF: Bridging Decentralized Services with Bitcoin  November 18, 2023         Adoption and Network Usage \\xa0 One of the key factors that can influence Ethereum’s price is the adoption and usage of the network. The more people use Ethereum, the more valuable it becomes. As the demand for the network grows, the value of the underlying cryptocurrency increases, which in turn attracts more investors and users. If the adoption rate of Ethereum increases, it will positively impact the price. \\xa0 For instance, the growing popularity of decentralized finance (DeFi) has contributed significantly to Ethereum’s adoption and network usage. DeFi protocols such as Uniswap, Compound, and Aave have become increasingly popular, and they are built on the Ethereum blockchain. As more', metadata={'source': 'C:\\\\Data\\\\Code\\\\llm_rag\\\\output\\\\test\\\\html\\\\ethereum\\\\Increase_search\\\\0.html', 'title': \"Factors That Can Influence Ethereum's Price Movements - Inventiva\"}),\n",
       "  Document(page_content='Follow on X    Send an email  March 17, 20230 1,842  3 minutes read         Share    Facebook    X    LinkedIn    Tumblr    Pinterest    Reddit    VKontakte    Odnoklassniki    Pocket    Skype    WhatsApp    Telegram    Share via Email       Ethereum is a decentralized blockchain platform that enables smart contracts and decentralized applications (Dapps) to be developed and run without any downtime, fraud, or interference from a third party. It is the second-largest cryptocurrency after Bitcoin in terms of market capitalization and has gained significant popularity among investors and traders. However, like all cryptocurrencies, the price of Ethereum is volatile and can be influenced by various factors. If you are interested in Ethereum, you might want to consider knowing about Bitcoin trading. In this article, we will discuss some of the major factors that can impact Ethereum’s price movements. \\xa0    Related Articles         Spillovers in Volatility Among Cryptocurrency Time Series', metadata={'source': 'C:\\\\Data\\\\Code\\\\llm_rag\\\\output\\\\test\\\\html\\\\ethereum\\\\Increase_search\\\\0.html', 'title': \"Factors That Can Influence Ethereum's Price Movements - Inventiva\"}),\n",
       "  Document(page_content=\"Factors That Can Influence Ethereum's Price Movements - Inventiva                                                                                    Sunday, November 26 2023      Breaking News    Modi to visit UAE for climate change meet   ‘Impose limits on foreign carriers to boost local airlines’   Gujarat: 14 people killed due to unseasonal rains   Milk, egg, meat output up significantly in past five years; wool down: Report   Madhya Pradesh gets India’s largest tiger reserve in Damoh, to be operational in next two to three months   India sees record-setting exodus of CEOs and MDs in post-Covid world: Report   Wall Street Ahead: Market looks steady as global equities head towards big monthly gains   Huawei to move smart car operations to new joint company with Changan   Top 5 Best Salestech Companies In India 2024   Clemente Del Vecchio: A teenager billionaire in Forbes’ prestigious list                Delhi  19 ℃      FacebookXLinkedInYouTubeInstagramWhatsApp    Random\", metadata={'source': 'C:\\\\Data\\\\Code\\\\llm_rag\\\\output\\\\test\\\\html\\\\ethereum\\\\Increase_search\\\\0.html', 'title': \"Factors That Can Influence Ethereum's Price Movements - Inventiva\"}),\n",
       "  Document(page_content='Overall, understanding the various factors that affect prices is key in order to make informed decisions when investing in ETH or trading it on the open market. Demand and supply dynamics remain at the core of these decisions – from investor sentiment and economic forces all the way through speculation – each factor has an impact on how Etherum is priced at any given time.', metadata={'source': 'C:\\\\Data\\\\Code\\\\llm_rag\\\\output\\\\test\\\\html\\\\ethereum\\\\Increase_search\\\\2.html', 'title': 'What Factors Have an Impact on Ethereum Price?'}),\n",
       "  Document(page_content='Ethereum is one of the most popular cryptocurrency networks, with its own blockchain and a global market of users. As with any other asset, Ethereum prices are constantly in flux, driven by a variety of factors such as demand and supply dynamics, technological developments, and political influences. In this article, we will explore the different forces that have an impact on Ethereum prices and take a closer look at their implications for investors. We will also provide a summary of Ethereum prices and their drivers, as well as offer an outlook for what the future may hold for this cryptocurrency.\\nOverview of Ethereum', metadata={'source': 'C:\\\\Data\\\\Code\\\\llm_rag\\\\output\\\\test\\\\html\\\\ethereum\\\\Increase_search\\\\2.html', 'title': 'What Factors Have an Impact on Ethereum Price?'}),\n",
       "  Document(page_content='are influenced by various factors such as adoption and network usage, market sentiment, competition, supply and demand, and government and regulatory developments. As the demand for the Ethereum network grows, its price is likely to increase. However, market sentiment and competition can also impact the price in the short term. Investors and traders need to keep track of these factors to make informed investment decisions. As the cryptocurrency market continues to evolve, it will be interesting to see how these factors continue to impact Ethereum’s price movements in the future. See also\\xa0 PwC Says: Digital transformation on agenda: 54% manufacturing companies promoted AI, analytics for business functions         Nitin Naresh   Follow on X    Send an email  March 17, 20230 1,842  3 minutes read       Share    Facebook    X    LinkedIn    Tumblr    Pinterest    Reddit    VKontakte    Odnoklassniki    Pocket    Skype    WhatsApp    Telegram    Share via Email             Share', metadata={'source': 'C:\\\\Data\\\\Code\\\\llm_rag\\\\output\\\\test\\\\html\\\\ethereum\\\\Increase_search\\\\0.html', 'title': \"Factors That Can Influence Ethereum's Price Movements - Inventiva\"}),\n",
       "  Document(page_content='Ethereum Price Prediction\\nThis section should analyze the historical price movements of Ethereum and its recent trends. It should also take into account any recent news or developments that could have an impact on its price.\\nFactors Influencing Ethereum’s Price \\nThis section should outline the key factors that influence Ethereum’s price. These could include adoption rate, technological advancements, competition, regulatory changes, and investor sentiment.\\nAnalysis of Market Trends and Factors \\nThis section should provide an in-depth analysis of the market trends and factors influencing Ethereum’s price. It should consider how these factors are likely to impact its future price movements.\\nShort-Term Ethereum Price Prediction \\nBased on the analysis of market trends and factors, this section should provide a short-term prediction for Ethereum’s price. This could include potential price ranges and factors that could impact its value in the coming weeks or months.', metadata={'source': 'C:\\\\Data\\\\Code\\\\llm_rag\\\\output\\\\test\\\\html\\\\ethereum\\\\Increase_search\\\\1.html', 'title': 'Ethereum Price Prediction: Analyzing Market Trends and Factors'}),\n",
       "  Document(page_content='Long-Term Ethereum Price Prediction \\nThis section should provide a long-term prediction for Ethereum’s price, considering the same market trends and factors analyzed in the previous section. It could include potential price ranges and factors that could impact its value over the coming years.\\nRisks and Considerations \\nThis section should outline the risks associated with investing in cryptocurrency, including the potential for volatility, regulatory changes, and cybersecurity threats. It should also encourage readers to do their own research before investing.\\nHistorical Price Analysis of Ethereum \\nThis section should provide a historical analysis of Ethereum’s price movements since its launch in 2015. It could include significant events that have impacted its price, such as the DAO hack and the transition to Ethereum 2.0.\\nAdoption Rate and Technological Advancements', metadata={'source': 'C:\\\\Data\\\\Code\\\\llm_rag\\\\output\\\\test\\\\html\\\\ethereum\\\\Increase_search\\\\1.html', 'title': 'Ethereum Price Prediction: Analyzing Market Trends and Factors'}),\n",
       "  Document(page_content='Adoption Rate and Technological Advancements \\n This section should analyze the adoption rate of Ethereum and its technological advancements, such as the implementation of smart contracts and the move towards Proof-of-Stake consensus. It should also consider how these factors could impact its future price movements.\\nCompetition and Regulatory Changes \\nThis section should consider Ethereum’s competition in the cryptocurrency market, such as other smart contract platforms like Cardano and Polkadot. It should also analyze any regulatory changes that could impact its price, such as the ongoing scrutiny of stablecoins and decentralized finance (DeFi) protocols.\\nInvestor Sentiment and Market Demand \\nThis section should consider investor sentiment towards Ethereum and the overall market demand for cryptocurrencies. It could analyze metrics such as trading volume, market capitalization, and social media sentiment.\\nShort-Term Price Forecast', metadata={'source': 'C:\\\\Data\\\\Code\\\\llm_rag\\\\output\\\\test\\\\html\\\\ethereum\\\\Increase_search\\\\1.html', 'title': 'Ethereum Price Prediction: Analyzing Market Trends and Factors'})]}"
      ]
     },
     "execution_count": 11,
     "metadata": {},
     "output_type": "execute_result"
    }
   ],
   "source": [
    "#ethereum\n",
    "factors"
   ]
  },
  {
   "cell_type": "code",
   "execution_count": 20,
   "id": "ec7cfae4-78ae-4c5b-8bfd-80ff1a6146cc",
   "metadata": {},
   "outputs": [
    {
     "data": {
      "text/plain": [
       "{'query': 'what are the 5 biggest factors that cause the price of ethereum to increase',\n",
       " 'result': '[\\n]',\n",
       " 'source_documents': [Document(page_content='3 reasons why Ethereum has been rising faster than Bitcoin price in 2021', metadata={'source': 'C:\\\\Data\\\\Code\\\\llm_rag\\\\output\\\\test\\\\html\\\\ethereum\\\\increase_search\\\\4.html', 'title': '3 reasons why Ethereum has been rising faster than Bitcoin price in 2021'}),\n",
       "  Document(page_content='trading. In this article, we will discuss some of the major factors that can impact Ethereum’s price movements. \\xa0    Related Articles         Spillovers in Volatility Among Cryptocurrency Time Series  November 18, 2023         RIF: Bridging Decentralized Services with Bitcoin  November 18, 2023         Adoption and Network Usage \\xa0 One of the key factors that can influence Ethereum’s price is the adoption and usage of the network. The more people use Ethereum, the more valuable it becomes. As the demand for the network grows, the value of the underlying cryptocurrency increases, which in turn attracts more investors and users. If the adoption rate of Ethereum increases, it will positively impact the price. \\xa0 For instance, the growing popularity of decentralized finance (DeFi) has contributed significantly to Ethereum’s adoption and network usage. DeFi protocols such as Uniswap, Compound, and Aave have become increasingly popular, and they are built on the Ethereum blockchain. As more', metadata={'source': 'C:\\\\Data\\\\Code\\\\llm_rag\\\\output\\\\test\\\\html\\\\ethereum\\\\increase_search\\\\0.html', 'title': \"Factors That Can Influence Ethereum's Price Movements - Inventiva\"}),\n",
       "  Document(page_content='Overall, understanding the various factors that affect prices is key in order to make informed decisions when investing in ETH or trading it on the open market. Demand and supply dynamics remain at the core of these decisions – from investor sentiment and economic forces all the way through speculation – each factor has an impact on how Etherum is priced at any given time.', metadata={'source': 'C:\\\\Data\\\\Code\\\\llm_rag\\\\output\\\\test\\\\html\\\\ethereum\\\\increase_search\\\\2.html', 'title': 'What Factors Have an Impact on Ethereum Price?'}),\n",
       "  Document(page_content='In addition to investor sentiment, economic factors can also influence the supply and demand of ETH. Inflationary pressures could lead to an increase in ETH prices as people look for alternatives to traditional investments such as stocks and bonds which are subject to inflationary risk. Similarly, during times of recession or economic downturns, people may turn towards cryptocurrencies such as Ethereum as a hedge against losses in other markets due to their decentralized nature.\\nSpeculation can also have an effect on Etherum prices by driving up demand for ETH even if there is no fundamental reason for it do so. Despite this fact being widely recognized by most traders and investors alike, speculation continues to play a major role in influencing prices due its decentralized nature which cannot be controlled by any single entity or government authority.', metadata={'source': 'C:\\\\Data\\\\Code\\\\llm_rag\\\\output\\\\test\\\\html\\\\ethereum\\\\increase_search\\\\2.html', 'title': 'What Factors Have an Impact on Ethereum Price?'}),\n",
       "  Document(page_content='Follow on X    Send an email  March 17, 20230 1,842  3 minutes read         Share    Facebook    X    LinkedIn    Tumblr    Pinterest    Reddit    VKontakte    Odnoklassniki    Pocket    Skype    WhatsApp    Telegram    Share via Email       Ethereum is a decentralized blockchain platform that enables smart contracts and decentralized applications (Dapps) to be developed and run without any downtime, fraud, or interference from a third party. It is the second-largest cryptocurrency after Bitcoin in terms of market capitalization and has gained significant popularity among investors and traders. However, like all cryptocurrencies, the price of Ethereum is volatile and can be influenced by various factors. If you are interested in Ethereum, you might want to consider knowing about Bitcoin trading. In this article, we will discuss some of the major factors that can impact Ethereum’s price movements. \\xa0    Related Articles         Spillovers in Volatility Among Cryptocurrency Time Series', metadata={'source': 'C:\\\\Data\\\\Code\\\\llm_rag\\\\output\\\\test\\\\html\\\\ethereum\\\\increase_search\\\\0.html', 'title': \"Factors That Can Influence Ethereum's Price Movements - Inventiva\"}),\n",
       "  Document(page_content='Here are some of the reasons that explain the rise in its price.\\n\\n\\n\\nThe functionality of Ethereum is immense. Ethereum – a decentralized software platform - is like the building block that can be used for multipurpose Distributed Applications (ĐApps) and SmartContracts that run without any third party control in a secure and seamless manner.\\xa0\\n\\n\\n\\nWith its increased application, there is a rise in demand by developers for ether – the crypto fuel for the Ethereum network. As corporations\\xa0and businesses turn toward exploring the decentralized ledger technology, more and more work is being carried out by developers. Ether is used as a form of payment made by clients for operating on the Ethereum platform to developers.\\xa0It also acts as an incentive for developers looking to develop and run applications on the network. (See also: SingularDTV Creating Entertainment On The Ethereum Blockchain)', metadata={'source': 'C:\\\\Data\\\\Code\\\\llm_rag\\\\output\\\\test\\\\html\\\\ethereum\\\\increase_search\\\\3.html', 'title': \"Understanding the Reasons Behind Ethereum's Price Rise\"}),\n",
       "  Document(page_content='Demand and Supply Dynamics\\nDemand and supply dynamics form the basis of any market, including the Ethereum market. The law of supply and demand states that when demand for a product or service increases, so does its price. Conversely, when demand decreases, prices also decrease. This principle applies to prices as well.\\nWhen more people buy ETH than sell it, this drives up the price due to increased demand. When investors become bullish on Ethereum’s future prospects, they are more likely to buy ETH in anticipation of future appreciation in value. On the other hand, when investors become bearish on Ethereum’s prospects, they may sell their holdings which can drive down ETH prices as a result of decreased demand.', metadata={'source': 'C:\\\\Data\\\\Code\\\\llm_rag\\\\output\\\\test\\\\html\\\\ethereum\\\\increase_search\\\\2.html', 'title': 'What Factors Have an Impact on Ethereum Price?'}),\n",
       "  Document(page_content='The relationship between cryptocurrency markets and traditional financial markets is another influence that has an effect on Etherum prices. The performance of stocks and bonds can impact cryptocurrency markets since investors may look for alternative investments when traditional markets fail to offer good returns. Additionally, changes in fiscal policies such as taxation rates on crypto assets can also affect Etherum’s price movements.\\nFinally, public opinion plays a big role when it comes to Etherum prices since it affects investor sentiment towards the asset. If there is negative sentiment surrounding the asset due to news reports or other factors then this could lead to decreased demand for ETH which would result in lower prices over time. Inversely if positive news stories emerge then this could increase demand for ETH resulting in higher values over time.', metadata={'source': 'C:\\\\Data\\\\Code\\\\llm_rag\\\\output\\\\test\\\\html\\\\ethereum\\\\increase_search\\\\2.html', 'title': 'What Factors Have an Impact on Ethereum Price?'}),\n",
       "  Document(page_content=\"Factors That Can Influence Ethereum's Price Movements - Inventiva                                                                                    Sunday, November 26 2023      Breaking News    Modi to visit UAE for climate change meet   ‘Impose limits on foreign carriers to boost local airlines’   Gujarat: 14 people killed due to unseasonal rains   Milk, egg, meat output up significantly in past five years; wool down: Report   Madhya Pradesh gets India’s largest tiger reserve in Damoh, to be operational in next two to three months   India sees record-setting exodus of CEOs and MDs in post-Covid world: Report   Wall Street Ahead: Market looks steady as global equities head towards big monthly gains   Huawei to move smart car operations to new joint company with Changan   Top 5 Best Salestech Companies In India 2024   Clemente Del Vecchio: A teenager billionaire in Forbes’ prestigious list                Delhi  19 ℃      FacebookXLinkedInYouTubeInstagramWhatsApp    Random\", metadata={'source': 'C:\\\\Data\\\\Code\\\\llm_rag\\\\output\\\\test\\\\html\\\\ethereum\\\\increase_search\\\\0.html', 'title': \"Factors That Can Influence Ethereum's Price Movements - Inventiva\"}),\n",
       "  Document(page_content='is a fixed supply. As demand for Ethereum grows, the limited supply will likely lead to an increase in its price. \\xa0 Government and Regulatory Developments \\xa0 Government and regulatory developments can also impact Ethereum’s price. Cryptocurrencies are still largely unregulated in many countries, and there is a growing concern among regulators about their potential use in illegal activities such as money laundering and terrorism financing. If governments and regulators impose stricter regulations on cryptocurrencies, it could negatively impact their adoption and usage, which could lead to a decrease in their price. \\xa0 For example, the Chinese government’s recent crackdown on cryptocurrencies has led to a drop in the prices of Bitcoin and Ethereum. \\xa0 In conclusion, Ethereum’s price movements are influenced by various factors such as adoption and network usage, market sentiment, competition, supply and demand, and government and regulatory developments. As the demand for the Ethereum', metadata={'source': 'C:\\\\Data\\\\Code\\\\llm_rag\\\\output\\\\test\\\\html\\\\ethereum\\\\increase_search\\\\0.html', 'title': \"Factors That Can Influence Ethereum's Price Movements - Inventiva\"})]}"
      ]
     },
     "execution_count": 20,
     "metadata": {},
     "output_type": "execute_result"
    }
   ],
   "source": [
    "factors"
   ]
  },
  {
   "cell_type": "code",
   "execution_count": 6,
   "id": "7758a24f-52f2-4a0e-90b4-66d6d5a1ebef",
   "metadata": {},
   "outputs": [
    {
     "data": {
      "text/plain": [
       "'Effect_Q0'"
      ]
     },
     "execution_count": 6,
     "metadata": {},
     "output_type": "execute_result"
    }
   ],
   "source": [
    "str(query.__name__)"
   ]
  },
  {
   "cell_type": "code",
   "execution_count": 41,
   "id": "e2c52361-96eb-4751-8111-12e378350229",
   "metadata": {},
   "outputs": [],
   "source": [
    "def BingToActualURL(url):\n",
    "    headers = {\n",
    "            \"User-Agent\":\"Mozilla/5.0 (Windows NT 10.0; Win64; x64) AppleWebKit/537.36 (KHTML, like Gecko) Chrome/70.0.3538.102 Safari/537.36 Edge/18.19582\" \n",
    "        }\n",
    "    response = requests.get(url, headers = headers).text\n",
    "    start_ind = response.index('var u = \"')\n",
    "    if start_ind >= 0:\n",
    "        response = response[start_ind+9:]\n",
    "        end_ind = response.find('\";')\n",
    "        if end_ind >=0:\n",
    "            response = response[:end_ind]\n",
    "            return response\n",
    "    return None\n",
    "\n",
    "def SearchBingGetLinksAndSave(queries, no_links, config_file, analysis_id, doc_prefix):\n",
    "    try:\n",
    "        doc_id = 0\n",
    "        for query in queries:\n",
    "            logging.info('running bing search for query: ' + query)\n",
    "            url = \"https://www.bing.com/search?form=QBRE&q=\"+query.replace(' ', '+')\n",
    "            response = al.RequestURLAndSave(url, False, config_file, analysis_id, doc_prefix, doc_id)\n",
    "            soup = BeautifulSoup(response, 'lxml')\n",
    "            links = []\n",
    "            for container in soup.select('.b_algo h2 a'):\n",
    "                actURL = BingToActualURL(container['href']) # need to find the actual url\n",
    "                if actURL is not None:\n",
    "                    links.append(actURL)\n",
    "            links = links[:no_links]\n",
    "\n",
    "            return links\n",
    "    except Exception as e:\n",
    "        logging.exception(\"error running bing search and save results\")\n",
    "        logging.exception(traceback.format_exc())\n",
    "        raise Exception(e) \n",
    "\n",
    "l = SearchBingGetLinksAndSave(['top 3 factors that cause the price of nymex crude oil to increase'], 3, 'prod',analysis_id,'incFact')"
   ]
  },
  {
   "cell_type": "code",
   "execution_count": 42,
   "id": "030f13a2-56bb-48d5-9c39-5ea363717bb7",
   "metadata": {},
   "outputs": [
    {
     "data": {
      "text/plain": [
       "['https://www.forbes.com/sites/forbesbooksauthors/2021/01/25/factors-that-influence-pricing-of-oil-and-gas/#:~:text=Weather%2C%20political%20disturbances%2C%20supply%20problems%20%E2%80%94%20these%20factors,supply%20and%20demand%20levels%2C%20prices%20will%20level%20out.',\n",
       " 'https://www.cmegroup.com/openmarkets/energy/2022/Crude-Oil-Cause-or-Effect-of-Inflation.html',\n",
       " 'https://www.cmegroup.com/openmarkets/energy/2022/Crude-Oil-Cause-or-Effect-of-Inflation.html']"
      ]
     },
     "execution_count": 42,
     "metadata": {},
     "output_type": "execute_result"
    }
   ],
   "source": [
    "l"
   ]
  },
  {
   "cell_type": "code",
   "execution_count": 16,
   "id": "a80acbaf-dc20-4672-8eaf-97705ed999c5",
   "metadata": {},
   "outputs": [
    {
     "name": "stdout",
     "output_type": "stream",
     "text": [
      "var u = \"https://www.eia.gov/todayinenergy/detail.php?id=50738#:~:text=Crude%20oil%20prices%20increased%20in%202021%20as%20increasing,global%20petroleum%20demand%20rising%20faster%20than%20petroleum%20supply.\";\n",
      "        if (s)\n",
      "          window.location.href = u;\n",
      "        else\n",
      "          window.location.replace(u);\n",
      "      }\n",
      "      function f() {\n",
      "        document.getElementById(\"fb\").style.display = \"block\";\n",
      "      }\n",
      "      //]]>\n",
      "    </script>\n",
      "  </head>\n",
      "  <body onload=\"l()\">\n",
      "    <div id=\"fb\" style=\"display: none\">\n",
      "      Please <a href=\"https://www.bing.com/ck/a?!&&p=e8b03e386126d51fJmltdHM9MTcwMDQzODQwMCZpZ3VpZD0wNTUxOWE1OS00ZGFjLTY4YmUtMmE4My04OTk2NGNkMzY5NzImaW5zaWQ9NTQ4Mg&ptn=3&ver=2&hsh=3&fclid=05519a59-4dac-68be-2a83-89964cd36972&u=a1aHR0cHM6Ly93d3cuZWlhLmdvdi90b2RheWluZW5lcmd5L2RldGFpbC5waHA_aWQ9NTA3MzgjOn46dGV4dD1DcnVkZSUyMG9pbCUyMHByaWNlcyUyMGluY3JlYXNlZCUyMGluJTIwMjAyMSUyMGFzJTIwaW5jcmVhc2luZyxnbG9iYWwlMjBwZXRyb2xldW0lMjBkZW1hbmQlMjByaXNpbmclMjBmYXN0ZXIlMjB0aGFuJTIwcGV0cm9sZXVtJTIwc3VwcGx5Lg&ntb=F\">click here</a> if the page does not redirect automatically ...\n",
      "    </div>\n",
      "  </body>\n",
      "</html>\n"
     ]
    }
   ],
   "source": [
    "\n",
    "    \n",
    "print(response)"
   ]
  },
  {
   "cell_type": "code",
   "execution_count": 29,
   "id": "714a3b1a-0bdb-46e2-a2e5-80205bbbc48c",
   "metadata": {},
   "outputs": [
    {
     "name": "stderr",
     "output_type": "stream",
     "text": [
      "AVX = 1 | AVX2 = 1 | AVX512 = 0 | AVX512_VBMI = 0 | AVX512_VNNI = 0 | FMA = 1 | NEON = 0 | ARM_FMA = 0 | F16C = 1 | FP16_VA = 0 | WASM_SIMD = 0 | BLAS = 1 | SSE3 = 1 | SSSE3 = 0 | VSX = 0 | \n",
      "from_string grammar:\n",
      "\n"
     ]
    },
    {
     "name": "stdout",
     "output_type": "stream",
     "text": [
      "root ::= object \n",
      "object ::= [{] ws object_11 [}] ws \n",
      "value ::= object | array | string | number | value_6 ws \n",
      "array ::= [[] ws array_15 []] ws \n",
      "string ::= [\"] string_18 [\"] ws \n",
      "number ::= number_19 number_25 number_29 ws \n",
      "value_6 ::= [t] [r] [u] [e] | [f] [a] [l] [s] [e] | [n] [u] [l] [l] \n",
      "ws ::= ws_31 \n",
      "object_8 ::= string [:] ws value object_10 \n",
      "object_9 ::= [,] ws string [:] ws value \n",
      "object_10 ::= object_9 object_10 | \n",
      "object_11 ::= object_8 | \n",
      "array_12 ::= value array_14 \n",
      "array_13 ::= [,] ws value \n",
      "array_14 ::= array_13 array_14 | \n",
      "array_15 ::= array_12 | \n",
      "string_16 ::= [^\"\\] | [\\] string_17 \n",
      "string_17 ::= [\"\\/bfnrt] | [u] [0-9a-fA-F] [0-9a-fA-F] [0-9a-fA-F] [0-9a-fA-F] \n",
      "string_18 ::= string_16 string_18 | \n",
      "number_19 ::= number_20 number_21 \n",
      "number_20 ::= [-] | \n",
      "number_21 ::= [0-9] | [1-9] number_22 \n",
      "number_22 ::= [0-9] number_22 | \n",
      "number_23 ::= [.] number_24 \n",
      "number_24 ::= [0-9] number_24 | [0-9] \n",
      "number_25 ::= number_23 | \n",
      "number_26 ::= [eE] number_27 number_28 \n",
      "number_27 ::= [-+] | \n",
      "number_28 ::= [0-9] number_28 | [0-9] \n",
      "number_29 ::= number_26 | \n",
      "ws_30 ::= [ <U+0009><U+000A>] ws \n",
      "ws_31 ::= ws_30 | \n"
     ]
    }
   ],
   "source": [
    "res2 = AnalyseEffect(subject, 'strong economy and greater demand', model_props, 'prod', analysis_id)"
   ]
  },
  {
   "cell_type": "code",
   "execution_count": 30,
   "id": "62832a66-1486-4f68-b0ad-5d78fb4848c7",
   "metadata": {},
   "outputs": [
    {
     "data": {
      "text/plain": [
       "{'query': 'how does strong economy and greater demand lead to an increase in the price of nymex crude oil',\n",
       " 'result': '{ \"the demand for all industrial commodities instead of the demand for all goods and services responds to both oil supply shocks and the aggregate demand shocks contemporaneously and it is influenced by the oil-market specific demand shocks with lags.\" \\n\\n\\n\\n\\n\\n\\n\\n\\n\\n\\n\\n\\n\\n\\n\\n\\n\\n\\n\\n\\n\\n\\n\\n\\n\\n\\n\\n\\n\\n\\n\\n\\n\\n\\n\\n\\n\\n\\n\\n\\n\\n\\n\\n\\n\\n\\n\\n\\n\\n\\n\\n\\n\\n\\n\\n\\n\\n\\n\\n\\n\\n\\n\\n\\n\\n\\n\\n\\n\\n\\n\\n\\n\\n\\n\\n\\n\\n\\n\\n\\n\\n\\n\\n\\n\\n\\n\\n\\n\\n\\n\\n\\n\\n\\n\\n\\n\\n\\n\\n\\n\\n\\n\\n\\n\\n\\n\\n\\n\\n\\n\\n\\n\\n\\n\\n\\n\\n\\n\\n\\n\\n\\n\\n\\n\\n\\n\\n\\n\\n\\n\\n\\n\\n\\n\\n\\n\\n\\n\\n\\n\\n\\n\\n\\n\\n\\n\\n\\n\\n\\n\\n\\n\\n\\n\\n\\n\\n\\n\\n\\n\\n\\n\\n\\n\\n\\n\\n\\n\\n\\n\\n\\n\\n\\n\\n\\n\\n\\n\\n\\n\\n\\n\\n\\n\\n\\n\\n\\n\\n\\n\\n\\n\\n\\n\\n\\n\\n\\n\\n\\n\\n',\n",
       " 'source_documents': [Document(page_content='how strong economy and greater demand affects on the price of nymex crude oil - Search RewardsGaeilgeAllImagesVideosMapsNewsShoppingMoreFlightsTravelHotelsToolsAbout 25,400 resultsDate Open links in new tabThe World Economic Forumhttps://www.weforum.org/agenda/2022/02/why-oil-prices-matter-to-global...Why oil prices matter to the global economy - an expert explains ...WebSep 14, 2023\\xa0· Oil and Gas. Oil prices are strongly influenced by the global economic outlook. Changes in supply and demand and geopolitical tensions cause price fluctuations. An orderly energy transition can protect against oil price spikes.IEAAfrica will develop with oil and gas - whether the West likes i…Oil and GasBanks predict slower growth for global economy in 2024; Jap…Maciej KolaczkowskiPassionate about role of technology in the energy transition. …Our ImpactFor more than 50 years, the Forum has engaged global Part…See results only from weforum.orgTaylor & Francis', metadata={'source': 'C:\\\\data\\\\code\\\\llm_rag\\\\output\\\\prod\\\\html\\\\nymex_crude_oil\\\\factor0\\\\0.html', 'title': 'how strong economy and greater demand affects on the price of nymex crude oil - Search'}),\n",
       "  Document(page_content='the demand for all industrial commodities instead of the demand for all goods and services responds to both oil supply shocks and the aggregate demand shocks contemporaneously and it is influenced by the oil-market specific demand shocks with lags.The effect of oil price fluctuation on the economy: what can we learn www.tandfonline.com/doi/full/10.1080/15140326.2022.20…FeedbackInvestopediahttps://www.investopedia.com/articles/investing/100614/oil-price-Oil Price Analysis: The Impact of Supply and DemandSupply and DemandCapacity and ReservesPumping, Refining, and DistributionOPEC and Oil PricesGeopolitical Tensions and Oil PricesOil consumption consists of various companies and hundreds of millions of people collectively influencing prices. Oil production can also affect oil prices, particularly in countries that produce large amounts of crude oil. As of 2021, the United States is the largest oil producer in the world, outpacing the country that most believe to …See more on', metadata={'source': 'C:\\\\data\\\\code\\\\llm_rag\\\\output\\\\prod\\\\html\\\\nymex_crude_oil\\\\factor0\\\\0.html', 'title': 'how strong economy and greater demand affects on the price of nymex crude oil - Search'}),\n",
       "  Document(page_content=\"results only from weforum.orgTaylor & Francis Onlinehttps://www.tandfonline.com/doi/full/10.1080/15140326.2022.2053940The effect of oil price fluctuation on the economy: what can we …WebIn sum, our findings suggest that 1) oil supply shocks can cause an economic downturn with little effect on inflation, 2) aggregate demand shocks can lead to higher prices and …Tags:# Oil Demand# Oil Supply# Oil And Fuel Prices# Effect Of Higher Oil PricesExplore furtherOil Price and Economic Growth: A Review of Literature - …researchgate.net(PDF) Analysis of oil price fluctuations - ResearchGateresearchgate.netRecommended to you based on what's popular • FeedbackPeople also askHow does economic growth affect crude oil prices?Economic growth can drive up the demand for crude oil, while slowdowns tend to lower demand and prices. OPEC+ is an international alliance of crude oil exporters that negotiates export quotas for members in an attempt to influence global supply.Top Factors That Affect the Price of\", metadata={'source': 'C:\\\\data\\\\code\\\\llm_rag\\\\output\\\\prod\\\\html\\\\nymex_crude_oil\\\\factor0\\\\0.html', 'title': 'how strong economy and greater demand affects on the price of nymex crude oil - Search'}),\n",
       "  Document(page_content='supply.Top Factors That Affect the Price of Oil - Investopediawww.investopedia.com/articles/investing/072515/top-fact…What time is Nymex crude oil front month data delayed?As of Nov 07 2023 18:20 GMT. As of Nov 07 2023 18:20 GMT. Data delayed at least 10 minutes, as of Nov 07 2023 18:20 GMT. NYMEX Crude Oil Front Month price information, historical data, charts, stats and more.NYMEX Crude Oil Front Month price information - FT.commarkets.ft.com/data/commodities/tearsheet/summary?c=…Why should you trade with Nymex WTI?Trade with other NYMEX oil contracts for significant savings and precise exposure. NYMEX WTI is closely connected to the spot market, reducing costs. Financial look-alike products offer an alternative to clients looking for cash-settlement.Crude Oil Overview - CME Groupwww.cmegroup.com/markets/energy/crude-oil/light-swee…How do oil supply shocks affect global economic activity?The real global economic activity which represents the demand for all industrial commodities', metadata={'source': 'C:\\\\data\\\\code\\\\llm_rag\\\\output\\\\prod\\\\html\\\\nymex_crude_oil\\\\factor0\\\\0.html', 'title': 'how strong economy and greater demand affects on the price of nymex crude oil - Search'}),\n",
       "  Document(page_content=\"the country that most believe to …See more on investopedia.comExplore furtherGlobal oil supply-and-demand outlook to 2040 | McKinseymckinsey.comFactors That Influence Pricing Of Oil And Gas - Forbesforbes.comRecommended to you based on what's popular • FeedbackFT.comhttps://markets.ft.com/data/commodities/tearsheet/summary?c=WTI+Crud…NYMEX Crude Oil Front Month price information - FT.comWebNov 15, 2023\\xa0· 103.50. +0.10%. NYMEX Crude Oil Front Month price information, historical data, charts, stats and more.Investopediahttps://www.investopedia.com/.../top-factors-reports-affect-price-oil.aspTop Factors That Affect the Price of Oil - InvestopediaWebMar 7, 2022\\xa0· Crude oil prices react to many variables, including supply and demand prospects and the perceived risk of market disruptions. Economic growth can drive up …Author: Prableen BajpaiTags:# Oil Demand# Oil Supply# Crude Oil Prices# Oil And Fuel PricesIEA – International Energy\", metadata={'source': 'C:\\\\data\\\\code\\\\llm_rag\\\\output\\\\prod\\\\html\\\\nymex_crude_oil\\\\factor0\\\\0.html', 'title': 'how strong economy and greater demand affects on the price of nymex crude oil - Search'})]}"
      ]
     },
     "execution_count": 30,
     "metadata": {},
     "output_type": "execute_result"
    }
   ],
   "source": [
    "res2"
   ]
  },
  {
   "cell_type": "code",
   "execution_count": 6,
   "id": "d38dc9e0-09b7-4d66-971a-c9b84e102d27",
   "metadata": {},
   "outputs": [
    {
     "data": {
      "text/plain": [
       "{'question': \"How does OPEC's market and demand structure and demand elasticity affect the price of Nymex crude oil?\",\n",
       " 'answers': [{'text': \"OPEC's market and demand structure and demand elasticity can cause an increase in the price of Nymex crude oil by influencing the global supply and demand balance, and by adjusting their production levels to meet changing market conditions.\",\n",
       "   'score': 80},\n",
       "  {'text': \"The price of Nymex crude oil is determined by factors such as global demand, supply, geopolitical events, and OPEC's actions have a limited impact on the price.\",\n",
       "   'score': 15},\n",
       "  {'text': \"OPEC's market and demand structure and demand elasticity can cause a decrease in the price of Nymex crude oil by increasing the global supply and reducing demand.\",\n",
       "   'score': 5}]}"
      ]
     },
     "execution_count": 6,
     "metadata": {},
     "output_type": "execute_result"
    }
   ],
   "source": [
    "res3 = json.loads(res2['result'])\n",
    "res3"
   ]
  }
 ],
 "metadata": {
  "kernelspec": {
   "display_name": "Python 3 (ipykernel)",
   "language": "python",
   "name": "python3"
  },
  "language_info": {
   "codemirror_mode": {
    "name": "ipython",
    "version": 3
   },
   "file_extension": ".py",
   "mimetype": "text/x-python",
   "name": "python",
   "nbconvert_exporter": "python",
   "pygments_lexer": "ipython3",
   "version": "3.10.13"
  }
 },
 "nbformat": 4,
 "nbformat_minor": 5
}
