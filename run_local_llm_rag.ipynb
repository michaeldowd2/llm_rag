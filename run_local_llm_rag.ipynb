{
 "cells": [
  {
   "cell_type": "code",
   "execution_count": 4,
   "id": "dcfc24d3-bf71-4576-9716-32386f47888c",
   "metadata": {},
   "outputs": [],
   "source": [
    "import json\n",
    "import os\n",
    "import sys\n",
    "import numpy as np\n",
    "import time\n",
    "import urllib.request\n",
    "import traceback\n",
    "from transformers import LlamaForCausalLM, LlamaTokenizer\n",
    "from langchain.llms import LlamaCpp\n",
    "from langchain.chains import LLMChain\n",
    "from langchain.embeddings import HuggingFaceEmbeddings\n",
    "from langchain.text_splitter import CharacterTextSplitter, RecursiveCharacterTextSplitter\n",
    "from langchain.document_loaders import BSHTMLLoader\n",
    "from langchain.document_loaders import DirectoryLoader\n",
    "from langchain.chains.question_answering import load_qa_chain\n",
    "from langchain.vectorstores import FAISS\n",
    "from langchain.indexes import VectorstoreIndexCreator\n",
    "from langchain.indexes.vectorstore import VectorStoreIndexWrapper\n",
    "from langchain.prompts import PromptTemplate\n",
    "from langchain.chains import RetrievalQA\n",
    "from bs4 import BeautifulSoup\n",
    "import requests\n",
    "import lxml\n",
    "import logging\n",
    "\n",
    "import src.analyse as al\n",
    "import src.queries as q"
   ]
  },
  {
   "cell_type": "code",
   "execution_count": 5,
   "id": "6077f2b2-78b1-4c81-ba3e-b3775a9b8f1f",
   "metadata": {},
   "outputs": [],
   "source": [
    "no_factors= 5\n",
    "no_links = 5\n",
    "analysis_id = 'nymex_crude_oil'\n",
    "subject = 'nymex crude oil'\n",
    "model_props = {\n",
    "        \"name\": \"ggml-model-q4_0.gguf\",\n",
    "        \"n_gpu_layers\":40,\n",
    "        \"n_batch\":1024,\n",
    "        \"n_ctx\":4096\n",
    "    }"
   ]
  },
  {
   "cell_type": "code",
   "execution_count": null,
   "id": "c4c1e428-fa9c-4c9c-a80c-494c2a2ea724",
   "metadata": {},
   "outputs": [],
   "source": [
    "def LoadModel(model_props, grammar):\n",
    "    model_path = os.path.join(os.getcwd(), 'models', model_props['name'])\n",
    "    grammar_path = os.path.join(os.getcwd(), 'models', grammar)\n",
    "    llm = LlamaCpp(model_path=model_path, \n",
    "        temperature=0.0, \n",
    "        top_p=1,\n",
    "        n_ctx=model_props['n_ctx'], \n",
    "        seed = 42,\n",
    "        verbose=True, \n",
    "        n_gpu_layers=model_props['n_gpu_layers'],\n",
    "        n_batch=model_props['n_batch'],\n",
    "        #grammar_path=grammar_path\n",
    "    )\n",
    "    return llm\n",
    "\n",
    "#llm = LoadModel(model_props, 'json.gbnf')"
   ]
  },
  {
   "cell_type": "code",
   "execution_count": 5,
   "id": "ec7cfae4-78ae-4c5b-8bfd-80ff1a6146cc",
   "metadata": {},
   "outputs": [
    {
     "name": "stderr",
     "output_type": "stream",
     "text": [
      "Llama.generate: prefix-match hit\n"
     ]
    },
    {
     "data": {
      "text/plain": [
       "'\\nAnswer: Demand increases by the West.'"
      ]
     },
     "execution_count": 5,
     "metadata": {},
     "output_type": "execute_result"
    }
   ],
   "source": [
    "question = \"\"\"\n",
    "The opposite of \"supply cuts by Russia\" is \"\n",
    "\"\"\"\n",
    "llm(question)"
   ]
  },
  {
   "cell_type": "code",
   "execution_count": 6,
   "id": "7758a24f-52f2-4a0e-90b4-66d6d5a1ebef",
   "metadata": {},
   "outputs": [
    {
     "data": {
      "text/plain": [
       "'Effect_Q0'"
      ]
     },
     "execution_count": 6,
     "metadata": {},
     "output_type": "execute_result"
    }
   ],
   "source": [
    "str(query.__name__)"
   ]
  },
  {
   "cell_type": "code",
   "execution_count": 41,
   "id": "e2c52361-96eb-4751-8111-12e378350229",
   "metadata": {},
   "outputs": [],
   "source": [
    "def BingToActualURL(url):\n",
    "    headers = {\n",
    "            \"User-Agent\":\"Mozilla/5.0 (Windows NT 10.0; Win64; x64) AppleWebKit/537.36 (KHTML, like Gecko) Chrome/70.0.3538.102 Safari/537.36 Edge/18.19582\" \n",
    "        }\n",
    "    response = requests.get(url, headers = headers).text\n",
    "    start_ind = response.index('var u = \"')\n",
    "    if start_ind >= 0:\n",
    "        response = response[start_ind+9:]\n",
    "        end_ind = response.find('\";')\n",
    "        if end_ind >=0:\n",
    "            response = response[:end_ind]\n",
    "            return response\n",
    "    return None\n",
    "\n",
    "def SearchBingGetLinksAndSave(queries, no_links, config_file, analysis_id, doc_prefix):\n",
    "    try:\n",
    "        doc_id = 0\n",
    "        for query in queries:\n",
    "            logging.info('running bing search for query: ' + query)\n",
    "            url = \"https://www.bing.com/search?form=QBRE&q=\"+query.replace(' ', '+')\n",
    "            response = al.RequestURLAndSave(url, False, config_file, analysis_id, doc_prefix, doc_id)\n",
    "            soup = BeautifulSoup(response, 'lxml')\n",
    "            links = []\n",
    "            for container in soup.select('.b_algo h2 a'):\n",
    "                actURL = BingToActualURL(container['href']) # need to find the actual url\n",
    "                if actURL is not None:\n",
    "                    links.append(actURL)\n",
    "            links = links[:no_links]\n",
    "\n",
    "            return links\n",
    "    except Exception as e:\n",
    "        logging.exception(\"error running bing search and save results\")\n",
    "        logging.exception(traceback.format_exc())\n",
    "        raise Exception(e) \n",
    "\n",
    "l = SearchBingGetLinksAndSave(['top 3 factors that cause the price of nymex crude oil to increase'], 3, 'prod',analysis_id,'incFact')"
   ]
  },
  {
   "cell_type": "code",
   "execution_count": 42,
   "id": "030f13a2-56bb-48d5-9c39-5ea363717bb7",
   "metadata": {},
   "outputs": [
    {
     "data": {
      "text/plain": [
       "['https://www.forbes.com/sites/forbesbooksauthors/2021/01/25/factors-that-influence-pricing-of-oil-and-gas/#:~:text=Weather%2C%20political%20disturbances%2C%20supply%20problems%20%E2%80%94%20these%20factors,supply%20and%20demand%20levels%2C%20prices%20will%20level%20out.',\n",
       " 'https://www.cmegroup.com/openmarkets/energy/2022/Crude-Oil-Cause-or-Effect-of-Inflation.html',\n",
       " 'https://www.cmegroup.com/openmarkets/energy/2022/Crude-Oil-Cause-or-Effect-of-Inflation.html']"
      ]
     },
     "execution_count": 42,
     "metadata": {},
     "output_type": "execute_result"
    }
   ],
   "source": [
    "l"
   ]
  },
  {
   "cell_type": "code",
   "execution_count": 16,
   "id": "a80acbaf-dc20-4672-8eaf-97705ed999c5",
   "metadata": {},
   "outputs": [
    {
     "name": "stdout",
     "output_type": "stream",
     "text": [
      "var u = \"https://www.eia.gov/todayinenergy/detail.php?id=50738#:~:text=Crude%20oil%20prices%20increased%20in%202021%20as%20increasing,global%20petroleum%20demand%20rising%20faster%20than%20petroleum%20supply.\";\n",
      "        if (s)\n",
      "          window.location.href = u;\n",
      "        else\n",
      "          window.location.replace(u);\n",
      "      }\n",
      "      function f() {\n",
      "        document.getElementById(\"fb\").style.display = \"block\";\n",
      "      }\n",
      "      //]]>\n",
      "    </script>\n",
      "  </head>\n",
      "  <body onload=\"l()\">\n",
      "    <div id=\"fb\" style=\"display: none\">\n",
      "      Please <a href=\"https://www.bing.com/ck/a?!&&p=e8b03e386126d51fJmltdHM9MTcwMDQzODQwMCZpZ3VpZD0wNTUxOWE1OS00ZGFjLTY4YmUtMmE4My04OTk2NGNkMzY5NzImaW5zaWQ9NTQ4Mg&ptn=3&ver=2&hsh=3&fclid=05519a59-4dac-68be-2a83-89964cd36972&u=a1aHR0cHM6Ly93d3cuZWlhLmdvdi90b2RheWluZW5lcmd5L2RldGFpbC5waHA_aWQ9NTA3MzgjOn46dGV4dD1DcnVkZSUyMG9pbCUyMHByaWNlcyUyMGluY3JlYXNlZCUyMGluJTIwMjAyMSUyMGFzJTIwaW5jcmVhc2luZyxnbG9iYWwlMjBwZXRyb2xldW0lMjBkZW1hbmQlMjByaXNpbmclMjBmYXN0ZXIlMjB0aGFuJTIwcGV0cm9sZXVtJTIwc3VwcGx5Lg&ntb=F\">click here</a> if the page does not redirect automatically ...\n",
      "    </div>\n",
      "  </body>\n",
      "</html>\n"
     ]
    }
   ],
   "source": [
    "\n",
    "    \n",
    "print(response)"
   ]
  },
  {
   "cell_type": "code",
   "execution_count": 29,
   "id": "714a3b1a-0bdb-46e2-a2e5-80205bbbc48c",
   "metadata": {},
   "outputs": [
    {
     "name": "stderr",
     "output_type": "stream",
     "text": [
      "AVX = 1 | AVX2 = 1 | AVX512 = 0 | AVX512_VBMI = 0 | AVX512_VNNI = 0 | FMA = 1 | NEON = 0 | ARM_FMA = 0 | F16C = 1 | FP16_VA = 0 | WASM_SIMD = 0 | BLAS = 1 | SSE3 = 1 | SSSE3 = 0 | VSX = 0 | \n",
      "from_string grammar:\n",
      "\n"
     ]
    },
    {
     "name": "stdout",
     "output_type": "stream",
     "text": [
      "root ::= object \n",
      "object ::= [{] ws object_11 [}] ws \n",
      "value ::= object | array | string | number | value_6 ws \n",
      "array ::= [[] ws array_15 []] ws \n",
      "string ::= [\"] string_18 [\"] ws \n",
      "number ::= number_19 number_25 number_29 ws \n",
      "value_6 ::= [t] [r] [u] [e] | [f] [a] [l] [s] [e] | [n] [u] [l] [l] \n",
      "ws ::= ws_31 \n",
      "object_8 ::= string [:] ws value object_10 \n",
      "object_9 ::= [,] ws string [:] ws value \n",
      "object_10 ::= object_9 object_10 | \n",
      "object_11 ::= object_8 | \n",
      "array_12 ::= value array_14 \n",
      "array_13 ::= [,] ws value \n",
      "array_14 ::= array_13 array_14 | \n",
      "array_15 ::= array_12 | \n",
      "string_16 ::= [^\"\\] | [\\] string_17 \n",
      "string_17 ::= [\"\\/bfnrt] | [u] [0-9a-fA-F] [0-9a-fA-F] [0-9a-fA-F] [0-9a-fA-F] \n",
      "string_18 ::= string_16 string_18 | \n",
      "number_19 ::= number_20 number_21 \n",
      "number_20 ::= [-] | \n",
      "number_21 ::= [0-9] | [1-9] number_22 \n",
      "number_22 ::= [0-9] number_22 | \n",
      "number_23 ::= [.] number_24 \n",
      "number_24 ::= [0-9] number_24 | [0-9] \n",
      "number_25 ::= number_23 | \n",
      "number_26 ::= [eE] number_27 number_28 \n",
      "number_27 ::= [-+] | \n",
      "number_28 ::= [0-9] number_28 | [0-9] \n",
      "number_29 ::= number_26 | \n",
      "ws_30 ::= [ <U+0009><U+000A>] ws \n",
      "ws_31 ::= ws_30 | \n"
     ]
    }
   ],
   "source": [
    "res2 = AnalyseEffect(subject, 'strong economy and greater demand', model_props, 'prod', analysis_id)"
   ]
  },
  {
   "cell_type": "code",
   "execution_count": 30,
   "id": "62832a66-1486-4f68-b0ad-5d78fb4848c7",
   "metadata": {},
   "outputs": [
    {
     "data": {
      "text/plain": [
       "{'query': 'how does strong economy and greater demand lead to an increase in the price of nymex crude oil',\n",
       " 'result': '{ \"the demand for all industrial commodities instead of the demand for all goods and services responds to both oil supply shocks and the aggregate demand shocks contemporaneously and it is influenced by the oil-market specific demand shocks with lags.\" \\n\\n\\n\\n\\n\\n\\n\\n\\n\\n\\n\\n\\n\\n\\n\\n\\n\\n\\n\\n\\n\\n\\n\\n\\n\\n\\n\\n\\n\\n\\n\\n\\n\\n\\n\\n\\n\\n\\n\\n\\n\\n\\n\\n\\n\\n\\n\\n\\n\\n\\n\\n\\n\\n\\n\\n\\n\\n\\n\\n\\n\\n\\n\\n\\n\\n\\n\\n\\n\\n\\n\\n\\n\\n\\n\\n\\n\\n\\n\\n\\n\\n\\n\\n\\n\\n\\n\\n\\n\\n\\n\\n\\n\\n\\n\\n\\n\\n\\n\\n\\n\\n\\n\\n\\n\\n\\n\\n\\n\\n\\n\\n\\n\\n\\n\\n\\n\\n\\n\\n\\n\\n\\n\\n\\n\\n\\n\\n\\n\\n\\n\\n\\n\\n\\n\\n\\n\\n\\n\\n\\n\\n\\n\\n\\n\\n\\n\\n\\n\\n\\n\\n\\n\\n\\n\\n\\n\\n\\n\\n\\n\\n\\n\\n\\n\\n\\n\\n\\n\\n\\n\\n\\n\\n\\n\\n\\n\\n\\n\\n\\n\\n\\n\\n\\n\\n\\n\\n\\n\\n\\n\\n\\n\\n\\n\\n\\n\\n\\n\\n\\n\\n',\n",
       " 'source_documents': [Document(page_content='how strong economy and greater demand affects on the price of nymex crude oil - Search RewardsGaeilgeAllImagesVideosMapsNewsShoppingMoreFlightsTravelHotelsToolsAbout 25,400 resultsDate Open links in new tabThe World Economic Forumhttps://www.weforum.org/agenda/2022/02/why-oil-prices-matter-to-global...Why oil prices matter to the global economy - an expert explains ...WebSep 14, 2023\\xa0· Oil and Gas. Oil prices are strongly influenced by the global economic outlook. Changes in supply and demand and geopolitical tensions cause price fluctuations. An orderly energy transition can protect against oil price spikes.IEAAfrica will develop with oil and gas - whether the West likes i…Oil and GasBanks predict slower growth for global economy in 2024; Jap…Maciej KolaczkowskiPassionate about role of technology in the energy transition. …Our ImpactFor more than 50 years, the Forum has engaged global Part…See results only from weforum.orgTaylor & Francis', metadata={'source': 'C:\\\\data\\\\code\\\\llm_rag\\\\output\\\\prod\\\\html\\\\nymex_crude_oil\\\\factor0\\\\0.html', 'title': 'how strong economy and greater demand affects on the price of nymex crude oil - Search'}),\n",
       "  Document(page_content='the demand for all industrial commodities instead of the demand for all goods and services responds to both oil supply shocks and the aggregate demand shocks contemporaneously and it is influenced by the oil-market specific demand shocks with lags.The effect of oil price fluctuation on the economy: what can we learn www.tandfonline.com/doi/full/10.1080/15140326.2022.20…FeedbackInvestopediahttps://www.investopedia.com/articles/investing/100614/oil-price-Oil Price Analysis: The Impact of Supply and DemandSupply and DemandCapacity and ReservesPumping, Refining, and DistributionOPEC and Oil PricesGeopolitical Tensions and Oil PricesOil consumption consists of various companies and hundreds of millions of people collectively influencing prices. Oil production can also affect oil prices, particularly in countries that produce large amounts of crude oil. As of 2021, the United States is the largest oil producer in the world, outpacing the country that most believe to …See more on', metadata={'source': 'C:\\\\data\\\\code\\\\llm_rag\\\\output\\\\prod\\\\html\\\\nymex_crude_oil\\\\factor0\\\\0.html', 'title': 'how strong economy and greater demand affects on the price of nymex crude oil - Search'}),\n",
       "  Document(page_content=\"results only from weforum.orgTaylor & Francis Onlinehttps://www.tandfonline.com/doi/full/10.1080/15140326.2022.2053940The effect of oil price fluctuation on the economy: what can we …WebIn sum, our findings suggest that 1) oil supply shocks can cause an economic downturn with little effect on inflation, 2) aggregate demand shocks can lead to higher prices and …Tags:# Oil Demand# Oil Supply# Oil And Fuel Prices# Effect Of Higher Oil PricesExplore furtherOil Price and Economic Growth: A Review of Literature - …researchgate.net(PDF) Analysis of oil price fluctuations - ResearchGateresearchgate.netRecommended to you based on what's popular • FeedbackPeople also askHow does economic growth affect crude oil prices?Economic growth can drive up the demand for crude oil, while slowdowns tend to lower demand and prices. OPEC+ is an international alliance of crude oil exporters that negotiates export quotas for members in an attempt to influence global supply.Top Factors That Affect the Price of\", metadata={'source': 'C:\\\\data\\\\code\\\\llm_rag\\\\output\\\\prod\\\\html\\\\nymex_crude_oil\\\\factor0\\\\0.html', 'title': 'how strong economy and greater demand affects on the price of nymex crude oil - Search'}),\n",
       "  Document(page_content='supply.Top Factors That Affect the Price of Oil - Investopediawww.investopedia.com/articles/investing/072515/top-fact…What time is Nymex crude oil front month data delayed?As of Nov 07 2023 18:20 GMT. As of Nov 07 2023 18:20 GMT. Data delayed at least 10 minutes, as of Nov 07 2023 18:20 GMT. NYMEX Crude Oil Front Month price information, historical data, charts, stats and more.NYMEX Crude Oil Front Month price information - FT.commarkets.ft.com/data/commodities/tearsheet/summary?c=…Why should you trade with Nymex WTI?Trade with other NYMEX oil contracts for significant savings and precise exposure. NYMEX WTI is closely connected to the spot market, reducing costs. Financial look-alike products offer an alternative to clients looking for cash-settlement.Crude Oil Overview - CME Groupwww.cmegroup.com/markets/energy/crude-oil/light-swee…How do oil supply shocks affect global economic activity?The real global economic activity which represents the demand for all industrial commodities', metadata={'source': 'C:\\\\data\\\\code\\\\llm_rag\\\\output\\\\prod\\\\html\\\\nymex_crude_oil\\\\factor0\\\\0.html', 'title': 'how strong economy and greater demand affects on the price of nymex crude oil - Search'}),\n",
       "  Document(page_content=\"the country that most believe to …See more on investopedia.comExplore furtherGlobal oil supply-and-demand outlook to 2040 | McKinseymckinsey.comFactors That Influence Pricing Of Oil And Gas - Forbesforbes.comRecommended to you based on what's popular • FeedbackFT.comhttps://markets.ft.com/data/commodities/tearsheet/summary?c=WTI+Crud…NYMEX Crude Oil Front Month price information - FT.comWebNov 15, 2023\\xa0· 103.50. +0.10%. NYMEX Crude Oil Front Month price information, historical data, charts, stats and more.Investopediahttps://www.investopedia.com/.../top-factors-reports-affect-price-oil.aspTop Factors That Affect the Price of Oil - InvestopediaWebMar 7, 2022\\xa0· Crude oil prices react to many variables, including supply and demand prospects and the perceived risk of market disruptions. Economic growth can drive up …Author: Prableen BajpaiTags:# Oil Demand# Oil Supply# Crude Oil Prices# Oil And Fuel PricesIEA – International Energy\", metadata={'source': 'C:\\\\data\\\\code\\\\llm_rag\\\\output\\\\prod\\\\html\\\\nymex_crude_oil\\\\factor0\\\\0.html', 'title': 'how strong economy and greater demand affects on the price of nymex crude oil - Search'})]}"
      ]
     },
     "execution_count": 30,
     "metadata": {},
     "output_type": "execute_result"
    }
   ],
   "source": [
    "res2"
   ]
  },
  {
   "cell_type": "code",
   "execution_count": 6,
   "id": "d38dc9e0-09b7-4d66-971a-c9b84e102d27",
   "metadata": {},
   "outputs": [
    {
     "data": {
      "text/plain": [
       "{'question': \"How does OPEC's market and demand structure and demand elasticity affect the price of Nymex crude oil?\",\n",
       " 'answers': [{'text': \"OPEC's market and demand structure and demand elasticity can cause an increase in the price of Nymex crude oil by influencing the global supply and demand balance, and by adjusting their production levels to meet changing market conditions.\",\n",
       "   'score': 80},\n",
       "  {'text': \"The price of Nymex crude oil is determined by factors such as global demand, supply, geopolitical events, and OPEC's actions have a limited impact on the price.\",\n",
       "   'score': 15},\n",
       "  {'text': \"OPEC's market and demand structure and demand elasticity can cause a decrease in the price of Nymex crude oil by increasing the global supply and reducing demand.\",\n",
       "   'score': 5}]}"
      ]
     },
     "execution_count": 6,
     "metadata": {},
     "output_type": "execute_result"
    }
   ],
   "source": [
    "res3 = json.loads(res2['result'])\n",
    "res3"
   ]
  }
 ],
 "metadata": {
  "kernelspec": {
   "display_name": "Python 3 (ipykernel)",
   "language": "python",
   "name": "python3"
  },
  "language_info": {
   "codemirror_mode": {
    "name": "ipython",
    "version": 3
   },
   "file_extension": ".py",
   "mimetype": "text/x-python",
   "name": "python",
   "nbconvert_exporter": "python",
   "pygments_lexer": "ipython3",
   "version": "3.10.13"
  }
 },
 "nbformat": 4,
 "nbformat_minor": 5
}
