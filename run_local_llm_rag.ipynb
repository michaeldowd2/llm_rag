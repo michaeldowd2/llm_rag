{
 "cells": [
  {
   "cell_type": "code",
   "execution_count": 1,
   "id": "dcfc24d3-bf71-4576-9716-32386f47888c",
   "metadata": {},
   "outputs": [
    {
     "name": "stderr",
     "output_type": "stream",
     "text": [
      "C:\\Users\\shave\\.conda\\envs\\llamacpp2\\lib\\site-packages\\tqdm\\auto.py:21: TqdmWarning: IProgress not found. Please update jupyter and ipywidgets. See https://ipywidgets.readthedocs.io/en/stable/user_install.html\n",
      "  from .autonotebook import tqdm as notebook_tqdm\n"
     ]
    }
   ],
   "source": [
    "import json\n",
    "import os\n",
    "import sys\n",
    "import numpy as np\n",
    "import time\n",
    "import urllib.request\n",
    "import traceback\n",
    "from transformers import LlamaForCausalLM, LlamaTokenizer\n",
    "from langchain.llms import LlamaCpp\n",
    "from langchain.chains import LLMChain\n",
    "from langchain.embeddings import HuggingFaceEmbeddings\n",
    "from langchain.text_splitter import CharacterTextSplitter, RecursiveCharacterTextSplitter\n",
    "from langchain.document_loaders import BSHTMLLoader\n",
    "from langchain.document_loaders import DirectoryLoader\n",
    "from langchain.chains.question_answering import load_qa_chain\n",
    "from langchain.vectorstores import FAISS\n",
    "from langchain.indexes import VectorstoreIndexCreator\n",
    "from langchain.indexes.vectorstore import VectorStoreIndexWrapper\n",
    "from langchain.prompts import PromptTemplate\n",
    "from langchain.chains import RetrievalQA\n",
    "from bs4 import BeautifulSoup\n",
    "import requests\n",
    "import lxml\n",
    "import logging\n",
    "\n",
    "import src.analyse as al"
   ]
  },
  {
   "cell_type": "code",
   "execution_count": 2,
   "id": "6077f2b2-78b1-4c81-ba3e-b3775a9b8f1f",
   "metadata": {},
   "outputs": [],
   "source": [
    "no_factors= 3\n",
    "no_links = 3\n",
    "analysis_id = 'nymex_crude_oil'\n",
    "subject = 'nymex crude oil'\n",
    "model_props = {\n",
    "        \"name\": \"llama-2-13b-chat.Q8_0.gguf\",\n",
    "        \"n_gpu_layers\":40,\n",
    "        \"n_batch\":1024,\n",
    "        \"n_ctx\":4096\n",
    "    }\n",
    "\n",
    "def LoadModel(model_props):\n",
    "    model_path = os.path.join(os.getcwd(), 'models', model_props['name'])\n",
    "    grammar_path = os.path.join(os.getcwd(), 'models', 'json.gbnf')\n",
    "    llm = LlamaCpp(model_path=model_path, \n",
    "        temperature=0.0, \n",
    "        top_p=1,\n",
    "        n_ctx=model_props['n_ctx'], \n",
    "        seed = 42,\n",
    "        verbose=True, \n",
    "        n_gpu_layers=model_props['n_gpu_layers'],\n",
    "        n_batch=model_props['n_batch'],\n",
    "        grammar_path=grammar_path\n",
    "    )\n",
    "    return llm"
   ]
  },
  {
   "cell_type": "code",
   "execution_count": 3,
   "id": "c6f06d38-331d-40f8-a2f9-33aa52e8ed74",
   "metadata": {},
   "outputs": [
    {
     "name": "stdout",
     "output_type": "stream",
     "text": [
      "root ::= object \n",
      "object ::= [{] ws object_11 [}] ws \n",
      "value ::= object | array | string | number | value_6 ws \n",
      "array ::= [[] ws array_15 []] ws \n",
      "string ::= [\"] string_18 [\"] ws \n",
      "number ::= number_19 number_25 number_29 ws \n",
      "value_6 ::= [t] [r] [u] [e] | [f] [a] [l] [s] [e] | [n] [u] [l] [l] \n",
      "ws ::= ws_31 \n",
      "object_8 ::= string [:] ws value object_10 \n",
      "object_9 ::= [,] ws string [:] ws value \n",
      "object_10 ::= object_9 object_10 | \n",
      "object_11 ::= object_8 | \n",
      "array_12 ::= value array_14 \n",
      "array_13 ::= [,] ws value \n",
      "array_14 ::= array_13 array_14 | \n",
      "array_15 ::= array_12 | \n",
      "string_16 ::= [^\"\\] | [\\] string_17 \n",
      "string_17 ::= [\"\\/bfnrt] | [u] [0-9a-fA-F] [0-9a-fA-F] [0-9a-fA-F] [0-9a-fA-F] \n",
      "string_18 ::= string_16 string_18 | \n",
      "number_19 ::= number_20 number_21 \n",
      "number_20 ::= [-] | \n",
      "number_21 ::= [0-9] | [1-9] number_22 \n",
      "number_22 ::= [0-9] number_22 | \n",
      "number_23 ::= [.] number_24 \n",
      "number_24 ::= [0-9] number_24 | [0-9] \n",
      "number_25 ::= number_23 | \n",
      "number_26 ::= [eE] number_27 number_28 \n",
      "number_27 ::= [-+] | \n",
      "number_28 ::= [0-9] number_28 | [0-9] \n",
      "number_29 ::= number_26 | \n",
      "ws_30 ::= [ <U+0009><U+000A>] ws \n",
      "ws_31 ::= ws_30 | \n"
     ]
    },
    {
     "name": "stderr",
     "output_type": "stream",
     "text": [
      "AVX = 1 | AVX2 = 1 | AVX512 = 0 | AVX512_VBMI = 0 | AVX512_VNNI = 0 | FMA = 1 | NEON = 0 | ARM_FMA = 0 | F16C = 1 | FP16_VA = 0 | WASM_SIMD = 0 | BLAS = 1 | SSE3 = 1 | SSSE3 = 0 | VSX = 0 | \n",
      "from_string grammar:\n",
      "\n"
     ]
    }
   ],
   "source": [
    "model = LoadModel(model_props)"
   ]
  },
  {
   "cell_type": "code",
   "execution_count": 5,
   "id": "5919646f-642b-4893-b123-bd38c42f0b8c",
   "metadata": {},
   "outputs": [],
   "source": [
    "#res = al.FindFactors(subject, no_factors, no_links, model, 'prod', analysis_id)"
   ]
  },
  {
   "cell_type": "code",
   "execution_count": 6,
   "id": "d239d40c-3b99-4cd7-9cf6-6019c025e539",
   "metadata": {},
   "outputs": [
    {
     "data": {
      "text/plain": [
       "[\"OPEC's market and demand structure and demand elasticity\",\n",
       " 'the information efficiency of crude oil inventory positions',\n",
       " 'speculative factors']"
      ]
     },
     "execution_count": 6,
     "metadata": {},
     "output_type": "execute_result"
    }
   ],
   "source": [
    "#res"
   ]
  },
  {
   "cell_type": "code",
   "execution_count": 4,
   "id": "e2c52361-96eb-4751-8111-12e378350229",
   "metadata": {},
   "outputs": [],
   "source": [
    "def BINGQ_Effect(subject, factor):\n",
    "    bq = 'How can ' + factor + ' affect the price of ' + subject\n",
    "    return bq\n",
    "\n",
    "def LLMQ_Effect(subject, factor):\n",
    "    q = 'How could ' + factor + ' cause the price of ' + subject + ' to Increase'\n",
    "    t = \"\"\"\n",
    "Answer the question at the end using the following context.\n",
    "<context>\n",
    "{context}\n",
    "</context>\n",
    "Q: {question}? A:\n",
    "\"\"\"\n",
    "    return q, t\n",
    "\n",
    "def AnalyseEffect(subject, factor, model, config_file, analysis_id):\n",
    "    bq = BINGQ_Effect(subject, factor)\n",
    "    q, t = LLMQ_Effect(subject, factor)\n",
    "    #al.SearchBingGetLinksAndSave(bq, config_file, analysis_id, 'factor0', no_links)\n",
    "    answer = al.LoadContextAndRunLLM(q, t, model, config_file, analysis_id, 'factor0')\n",
    "    return answer"
   ]
  },
  {
   "cell_type": "code",
   "execution_count": 5,
   "id": "714a3b1a-0bdb-46e2-a2e5-80205bbbc48c",
   "metadata": {},
   "outputs": [],
   "source": [
    "res2 = AnalyseEffect(subject, 'OPECs market and demand structure and demand elasticity', model, 'prod', analysis_id)"
   ]
  },
  {
   "cell_type": "code",
   "execution_count": 6,
   "id": "d38dc9e0-09b7-4d66-971a-c9b84e102d27",
   "metadata": {},
   "outputs": [
    {
     "data": {
      "text/plain": [
       "{'query': 'How could OPECs market and demand structure and demand elasticity cause the price of nymex crude oil to Increase',\n",
       " 'result': '{\\n\\n}\\n\\n\\n\\n\\n\\n\\n\\n\\n\\n\\n\\n\\n\\n\\n\\n\\n\\n\\n\\n\\n\\n\\n\\n\\n\\n\\n\\n\\n\\n\\n\\n\\n\\n\\n\\n\\n\\n\\n\\n\\n\\n\\n\\n\\n\\n\\n\\n\\n\\n\\n\\n\\n\\n\\n\\n\\n\\n\\n\\n\\n\\n\\n\\n\\n\\n\\n\\n\\n\\n\\n\\n\\n\\n\\n\\n\\n\\n\\n\\n\\n\\n\\n\\n\\n\\n\\n\\n\\n\\n\\n\\n\\n\\n\\n\\n\\n\\n\\n\\n\\n\\n\\n\\n\\n\\n\\n\\n\\n\\n\\n\\n\\n\\n\\n\\n\\n\\n\\n\\n\\n\\n\\n\\n\\n\\n\\n\\n\\n\\n\\n\\n\\n\\n\\n\\n\\n\\n\\n\\n\\n\\n\\n\\n\\n\\n\\n\\n\\n\\n\\n\\n\\n\\n\\n\\n\\n\\n\\n\\n\\n\\n\\n\\n\\n\\n\\n\\n\\n\\n\\n\\n\\n\\n\\n\\n\\n\\n\\n\\n\\n\\n\\n\\n\\n\\n\\n\\n\\n\\n\\n\\n\\n\\n\\n\\n\\n\\n\\n\\n\\n\\n\\n\\n\\n\\n\\n\\n\\n\\n\\n\\n\\n\\n\\n\\n\\n\\n\\n\\n\\n\\n\\n\\n\\n\\n\\n\\n\\n\\n\\n\\n\\n\\n\\n\\n\\n\\n\\n\\n\\n\\n\\n\\n\\n\\n\\n\\n\\n\\n\\n\\n'}"
      ]
     },
     "execution_count": 6,
     "metadata": {},
     "output_type": "execute_result"
    }
   ],
   "source": [
    "res2"
   ]
  }
 ],
 "metadata": {
  "kernelspec": {
   "display_name": "Python 3 (ipykernel)",
   "language": "python",
   "name": "python3"
  },
  "language_info": {
   "codemirror_mode": {
    "name": "ipython",
    "version": 3
   },
   "file_extension": ".py",
   "mimetype": "text/x-python",
   "name": "python",
   "nbconvert_exporter": "python",
   "pygments_lexer": "ipython3",
   "version": "3.10.13"
  }
 },
 "nbformat": 4,
 "nbformat_minor": 5
}
