{
 "cells": [
  {
   "cell_type": "code",
   "execution_count": 39,
   "id": "dcfc24d3-bf71-4576-9716-32386f47888c",
   "metadata": {},
   "outputs": [],
   "source": [
    "import json\n",
    "import os\n",
    "import sys\n",
    "import numpy as np\n",
    "import time\n",
    "import urllib.request\n",
    "import traceback\n",
    "from transformers import LlamaForCausalLM, LlamaTokenizer\n",
    "from langchain.llms import LlamaCpp\n",
    "from langchain.chains import LLMChain\n",
    "from langchain.embeddings import HuggingFaceEmbeddings\n",
    "from langchain.text_splitter import CharacterTextSplitter, RecursiveCharacterTextSplitter\n",
    "from langchain.document_loaders import BSHTMLLoader\n",
    "from langchain.document_loaders import DirectoryLoader\n",
    "from langchain.chains.question_answering import load_qa_chain\n",
    "from langchain.vectorstores import FAISS\n",
    "from langchain.indexes import VectorstoreIndexCreator\n",
    "from langchain.indexes.vectorstore import VectorStoreIndexWrapper\n",
    "from langchain.prompts import PromptTemplate\n",
    "from langchain.chains import RetrievalQA\n",
    "from bs4 import BeautifulSoup\n",
    "import requests\n",
    "import lxml\n",
    "import logging\n",
    "\n",
    "import src.analyse as al"
   ]
  },
  {
   "cell_type": "code",
   "execution_count": 2,
   "id": "bcb32600-b112-4fea-a561-b2935ff9974f",
   "metadata": {},
   "outputs": [
    {
     "name": "stderr",
     "output_type": "stream",
     "text": [
      "AVX = 1 | AVX2 = 1 | AVX512 = 0 | AVX512_VBMI = 0 | AVX512_VNNI = 0 | FMA = 1 | NEON = 0 | ARM_FMA = 0 | F16C = 1 | FP16_VA = 0 | WASM_SIMD = 0 | BLAS = 0 | SSE3 = 1 | SSSE3 = 0 | VSX = 0 | \n",
      "from_string grammar:\n",
      "\n"
     ]
    },
    {
     "name": "stdout",
     "output_type": "stream",
     "text": [
      "root ::= arr \n",
      "arr ::= [[] [<U+000A>] ws arr_12 []] \n",
      "value ::= object | array | string | number | value_7 ws \n",
      "object ::= [{] ws object_16 [}] ws \n",
      "array ::= [[] ws array_20 []] ws \n",
      "string ::= [\"] string_23 [\"] ws \n",
      "number ::= number_24 number_30 number_34 ws \n",
      "value_7 ::= [t] [r] [u] [e] | [f] [a] [l] [s] [e] | [n] [u] [l] [l] \n",
      "ws ::= ws_36 \n",
      "arr_9 ::= value arr_11 \n",
      "arr_10 ::= [,] [<U+000A>] ws value \n",
      "arr_11 ::= arr_10 arr_11 | \n",
      "arr_12 ::= arr_9 | \n",
      "object_13 ::= string [:] ws value object_15 \n",
      "object_14 ::= [,] ws string [:] ws value \n",
      "object_15 ::= object_14 object_15 | \n",
      "object_16 ::= object_13 | \n",
      "array_17 ::= value array_19 \n",
      "array_18 ::= [,] ws value \n",
      "array_19 ::= array_18 array_19 | \n",
      "array_20 ::= array_17 | \n",
      "string_21 ::= [^\"\\] | [\\] string_22 \n",
      "string_22 ::= [\"\\/bfnrt] | [u] [0-9a-fA-F] [0-9a-fA-F] [0-9a-fA-F] [0-9a-fA-F] \n",
      "string_23 ::= string_21 string_23 | \n",
      "number_24 ::= number_25 number_26 \n",
      "number_25 ::= [-] | \n",
      "number_26 ::= [0-9] | [1-9] number_27 \n",
      "number_27 ::= [0-9] number_27 | \n",
      "number_28 ::= [.] number_29 \n",
      "number_29 ::= [0-9] number_29 | [0-9] \n",
      "number_30 ::= number_28 | \n",
      "number_31 ::= [eE] number_32 number_33 \n",
      "number_32 ::= [-+] | \n",
      "number_33 ::= [0-9] number_33 | [0-9] \n",
      "number_34 ::= number_31 | \n",
      "ws_35 ::= [ <U+0009><U+000A>] ws \n",
      "ws_36 ::= ws_35 | \n",
      "{'query': 'what are the factors that effect the price of nymex crude oil', 'result': '[\\n\\n{\\n\"answer\": [\\n\"demand\",\\n\"supply\",\\n\"economic growth\",\\n\"global events\"\\n]\\n}\\n]'}\n"
     ]
    }
   ],
   "source": [
    "a = al.Analyse('prod','nymex crude oil',2, 2)"
   ]
  },
  {
   "cell_type": "code",
   "execution_count": null,
   "id": "025dac3d-3ea7-44e1-a118-222611c8f11e",
   "metadata": {},
   "outputs": [],
   "source": [
    "x = 1\n",
    "x"
   ]
  },
  {
   "cell_type": "code",
   "execution_count": 46,
   "id": "06d2e58c-94f1-426f-a8b2-4c3caade14a8",
   "metadata": {},
   "outputs": [],
   "source": [
    "TEMPLATE_A = \"\"\"\n",
    "Answer the question at the end using the following context. Answer the question by showing a list summary.\n",
    "<context>\n",
    "{context}\n",
    "</context>\n",
    "Q: {question}? A:\n",
    "\"\"\"\n",
    "TEMPLATE_B = \"\"\"\n",
    "Human: Use the following pieces of context to provide a concise answer to the question at the end. Answer in the form of a json dictionary with the keys: \"effect\", \"confidence\" and \"explanation\".Don't include lists, apostrophes or quotes in any part of the answer.\n",
    "<context>\n",
    "{context}\n",
    "</context>\n",
    "Question: {question}\n",
    "Assistant:\"\"\"\n",
    "TEMPLATE_C = \"\"\"\n",
    "Human: Use the following pieces of context to provide a concise answer to the question at the end. Answer in the form of a json dictionary with the keys: \"change\", \"confidence\" and \"explanation\".Don't include lists, apostrophes or quotes in any part of the answer.\n",
    "<context>\n",
    "{context}\n",
    "</context>\n",
    "Question: {question}\n",
    "Assistant:\"\"\""
   ]
  },
  {
   "cell_type": "code",
   "execution_count": 42,
   "id": "4e3a21ec-f682-4801-b28e-cfd67469362d",
   "metadata": {},
   "outputs": [],
   "source": [
    "def CreateVectorDB(embeddings, config_file, analysis_id):\n",
    "    try:\n",
    "        vector_db_path = os.path.join(os.getcwd(), 'output', config_file, 'html', analysis_id)\n",
    "        vector_db_path += '\\\\'\n",
    "        logging.info('loading vector db at directory: ' + vector_db_path)\n",
    "        loader = DirectoryLoader(vector_db_path, loader_cls=BSHTMLLoader, loader_kwargs = {'open_encoding':'utf8'})\n",
    "        documents = loader.load()\n",
    "        logging.info('splitting documents')\n",
    "        text_splitter = RecursiveCharacterTextSplitter(chunk_size = 750, chunk_overlap = 50)\n",
    "        docs = text_splitter.split_documents(documents)\n",
    "        logging.info('generating embeddings')\n",
    "        vectorstore_faiss = FAISS.from_documents(docs, embeddings)\n",
    "        return vectorstore_faiss\n",
    "    except Exception as e:\n",
    "        logging.exception(\"error generating embeddings\")\n",
    "        logging.exception(traceback.format_exc())\n",
    "        raise Exception(e) "
   ]
  },
  {
   "cell_type": "code",
   "execution_count": 48,
   "id": "3176e965-ae26-4468-93e7-a0e23d1a485e",
   "metadata": {},
   "outputs": [],
   "source": [
    "subject = 'nymex crude oil'\n",
    "analysis_id = subject.replace(' ', '_')\n",
    "embeddings = HuggingFaceEmbeddings(model_name=\"all-mpnet-base-v2\")\n",
    "vectorstore_faiss = CreateVectorDB(embeddings, 'prod', analysis_id)"
   ]
  },
  {
   "cell_type": "code",
   "execution_count": 49,
   "id": "d2644681-94f1-45a3-bfa7-17624b44dab4",
   "metadata": {},
   "outputs": [],
   "source": [
    "\n",
    "def LoadContextAndRunLLM(query, template, vectorstore_faiss, config_file, analysis_id):\n",
    "    prompt = PromptTemplate(template = template, input_variables = [\"context\", \"question\"])\n",
    "    model_path = os.path.join(os.getcwd(), 'models', 'llama-2-13b-chat.Q8_0.gguf')\n",
    "    grammar_path = os.path.join(os.getcwd(), 'models', 'json_arr.gbnf')\n",
    "    llm = LlamaCpp(model_path=model_path, \n",
    "        temperature=0.0, \n",
    "        top_p=1, \n",
    "        n_ctx=4096, \n",
    "        verbose=True, \n",
    "        n_gpu_layers=40,\n",
    "        n_batch=512,\n",
    "        grammar_path=grammar_path\n",
    "    )\n",
    "    \n",
    "    qa = RetrievalQA.from_chain_type(\n",
    "        llm=llm,\n",
    "        chain_type='stuff',\n",
    "        retriever=vectorstore_faiss.as_retriever(search_type=\"similarity\", search_kwargs={\"k\":3}),\n",
    "        return_source_documents = False,\n",
    "        chain_type_kwargs = {\"prompt\":prompt}\n",
    "    )\n",
    "    return qa({\"query\": query})"
   ]
  },
  {
   "cell_type": "code",
   "execution_count": 50,
   "id": "afcd184c-b542-463f-8107-fa0a1b151d62",
   "metadata": {},
   "outputs": [
    {
     "name": "stderr",
     "output_type": "stream",
     "text": [
      "AVX = 1 | AVX2 = 1 | AVX512 = 0 | AVX512_VBMI = 0 | AVX512_VNNI = 0 | FMA = 1 | NEON = 0 | ARM_FMA = 0 | F16C = 1 | FP16_VA = 0 | WASM_SIMD = 0 | BLAS = 1 | SSE3 = 1 | SSSE3 = 0 | VSX = 0 | \n",
      "from_string grammar:\n",
      "\n"
     ]
    },
    {
     "name": "stdout",
     "output_type": "stream",
     "text": [
      "root ::= arr \n",
      "arr ::= [[] [<U+000A>] ws arr_12 []] \n",
      "value ::= object | array | string | number | value_7 ws \n",
      "object ::= [{] ws object_16 [}] ws \n",
      "array ::= [[] ws array_20 []] ws \n",
      "string ::= [\"] string_23 [\"] ws \n",
      "number ::= number_24 number_30 number_34 ws \n",
      "value_7 ::= [t] [r] [u] [e] | [f] [a] [l] [s] [e] | [n] [u] [l] [l] \n",
      "ws ::= ws_36 \n",
      "arr_9 ::= value arr_11 \n",
      "arr_10 ::= [,] [<U+000A>] ws value \n",
      "arr_11 ::= arr_10 arr_11 | \n",
      "arr_12 ::= arr_9 | \n",
      "object_13 ::= string [:] ws value object_15 \n",
      "object_14 ::= [,] ws string [:] ws value \n",
      "object_15 ::= object_14 object_15 | \n",
      "object_16 ::= object_13 | \n",
      "array_17 ::= value array_19 \n",
      "array_18 ::= [,] ws value \n",
      "array_19 ::= array_18 array_19 | \n",
      "array_20 ::= array_17 | \n",
      "string_21 ::= [^\"\\] | [\\] string_22 \n",
      "string_22 ::= [\"\\/bfnrt] | [u] [0-9a-fA-F] [0-9a-fA-F] [0-9a-fA-F] [0-9a-fA-F] \n",
      "string_23 ::= string_21 string_23 | \n",
      "number_24 ::= number_25 number_26 \n",
      "number_25 ::= [-] | \n",
      "number_26 ::= [0-9] | [1-9] number_27 \n",
      "number_27 ::= [0-9] number_27 | \n",
      "number_28 ::= [.] number_29 \n",
      "number_29 ::= [0-9] number_29 | [0-9] \n",
      "number_30 ::= number_28 | \n",
      "number_31 ::= [eE] number_32 number_33 \n",
      "number_32 ::= [-+] | \n",
      "number_33 ::= [0-9] number_33 | [0-9] \n",
      "number_34 ::= number_31 | \n",
      "ws_35 ::= [ <U+0009><U+000A>] ws \n",
      "ws_36 ::= ws_35 | \n"
     ]
    },
    {
     "data": {
      "text/plain": [
       "{'query': 'what are the 5 biggest factors that effect the price of nymex crude oil',\n",
       " 'result': '[\\n\"Global supply and demand\",\\n\"Economic growth\",\\n\"Geopolitical events\",\\n\"OPEC decisions\",\\n\"Currency fluctuations\"\\n]'}"
      ]
     },
     "execution_count": 50,
     "metadata": {},
     "output_type": "execute_result"
    }
   ],
   "source": [
    "init_answer = LoadContextAndRunLLM('what are the 5 biggest factors that effect the price of nymex crude oil', TEMPLATE_A, vectorstore_faiss, 'prod', analysis_id)\n",
    "init_answer"
   ]
  },
  {
   "cell_type": "code",
   "execution_count": 8,
   "id": "b3ccad3c-b979-42ea-9160-fcc3ff9b72d1",
   "metadata": {},
   "outputs": [
    {
     "name": "stdout",
     "output_type": "stream",
     "text": [
      "{'query': 'what factors effect the price of nymex crude oil', 'result': '[\\n\"Current 2 biggest factors\",\\n\"effect the price\"\\n]'}\n"
     ]
    }
   ],
   "source": [
    "print(init_answer)"
   ]
  },
  {
   "cell_type": "code",
   "execution_count": null,
   "id": "7532fd0d-7b17-4fb4-a12e-b8b8bd6bcc19",
   "metadata": {},
   "outputs": [],
   "source": [
    "x = 1\n",
    "x"
   ]
  }
 ],
 "metadata": {
  "kernelspec": {
   "display_name": "Python 3 (ipykernel)",
   "language": "python",
   "name": "python3"
  },
  "language_info": {
   "codemirror_mode": {
    "name": "ipython",
    "version": 3
   },
   "file_extension": ".py",
   "mimetype": "text/x-python",
   "name": "python",
   "nbconvert_exporter": "python",
   "pygments_lexer": "ipython3",
   "version": "3.10.13"
  }
 },
 "nbformat": 4,
 "nbformat_minor": 5
}
